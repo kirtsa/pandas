{
 "cells": [
  {
   "cell_type": "markdown",
   "id": "north-harbor",
   "metadata": {},
   "source": [
    "# handle list and dict columns"
   ]
  },
  {
   "cell_type": "markdown",
   "id": "cooperative-mechanism",
   "metadata": {},
   "source": [
    "---\n",
    "* author:  [Prasert Kanawattanachai](prasert.k@chula.ac.th)\n",
    "* YouTube: https://www.youtube.com/prasertcbs\n",
    "* github: https://github.com/prasertcbs/pandas/blob/main/pandas_dict_list_columns.ipynb\n",
    "* [Chulalongkorn Business School](https://www.cbs.chula.ac.th/en/)\n",
    "---"
   ]
  },
  {
   "cell_type": "code",
   "execution_count": 1,
   "id": "annual-satin",
   "metadata": {},
   "outputs": [],
   "source": [
    "import json\n",
    "import ast # handle single/double quote in dict/json string\n",
    "import pandas as pd"
   ]
  },
  {
   "cell_type": "code",
   "execution_count": 2,
   "id": "worst-absolute",
   "metadata": {},
   "outputs": [
    {
     "name": "stdout",
     "output_type": "stream",
     "text": [
      "pandas version: 1.2.1\n",
      "2021-02-21 10:39:17.751958\n"
     ]
    }
   ],
   "source": [
    "print(f'pandas version: {pd.__version__}')\n",
    "print(pd.Timestamp.now())"
   ]
  },
  {
   "cell_type": "code",
   "execution_count": 3,
   "id": "mature-peoples",
   "metadata": {},
   "outputs": [
    {
     "data": {
      "text/html": [
       "<div>\n",
       "<style scoped>\n",
       "    .dataframe tbody tr th:only-of-type {\n",
       "        vertical-align: middle;\n",
       "    }\n",
       "\n",
       "    .dataframe tbody tr th {\n",
       "        vertical-align: top;\n",
       "    }\n",
       "\n",
       "    .dataframe thead th {\n",
       "        text-align: right;\n",
       "    }\n",
       "</style>\n",
       "<table border=\"1\" class=\"dataframe\">\n",
       "  <thead>\n",
       "    <tr style=\"text-align: right;\">\n",
       "      <th></th>\n",
       "      <th>menu</th>\n",
       "      <th>price</th>\n",
       "      <th>price2</th>\n",
       "      <th>orders</th>\n",
       "      <th>orders2</th>\n",
       "      <th>serve</th>\n",
       "      <th>serve2</th>\n",
       "    </tr>\n",
       "  </thead>\n",
       "  <tbody>\n",
       "    <tr>\n",
       "      <th>0</th>\n",
       "      <td>mocha</td>\n",
       "      <td>{\"S\":40, \"M\":50, \"L\":60}</td>\n",
       "      <td>{'S':40, 'M':50, 'L':60}</td>\n",
       "      <td>70,10,100</td>\n",
       "      <td>[70,10,100]</td>\n",
       "      <td>hot,cold,frappe</td>\n",
       "      <td>['hot', 'cold', 'frappe']</td>\n",
       "    </tr>\n",
       "    <tr>\n",
       "      <th>1</th>\n",
       "      <td>latte</td>\n",
       "      <td>{\"S\":45, \"M\":60, \"L\":70}</td>\n",
       "      <td>{'S':45, 'M':60, 'L':70}</td>\n",
       "      <td>40,20,80</td>\n",
       "      <td>[40,20,80]</td>\n",
       "      <td>hot,cold</td>\n",
       "      <td>['hot', 'cold']</td>\n",
       "    </tr>\n",
       "    <tr>\n",
       "      <th>2</th>\n",
       "      <td>espresso</td>\n",
       "      <td>{\"S\":39, \"M\":49, \"L\":59}</td>\n",
       "      <td>{'S':39, 'M':49, 'L':59}</td>\n",
       "      <td>120,5,50</td>\n",
       "      <td>[120,5,50]</td>\n",
       "      <td>hot</td>\n",
       "      <td>['hot']</td>\n",
       "    </tr>\n",
       "  </tbody>\n",
       "</table>\n",
       "</div>"
      ],
      "text/plain": [
       "       menu                     price                    price2     orders  \\\n",
       "0     mocha  {\"S\":40, \"M\":50, \"L\":60}  {'S':40, 'M':50, 'L':60}  70,10,100   \n",
       "1     latte  {\"S\":45, \"M\":60, \"L\":70}  {'S':45, 'M':60, 'L':70}   40,20,80   \n",
       "2  espresso  {\"S\":39, \"M\":49, \"L\":59}  {'S':39, 'M':49, 'L':59}   120,5,50   \n",
       "\n",
       "       orders2            serve                     serve2  \n",
       "0  [70,10,100]  hot,cold,frappe  ['hot', 'cold', 'frappe']  \n",
       "1   [40,20,80]         hot,cold            ['hot', 'cold']  \n",
       "2   [120,5,50]              hot                    ['hot']  "
      ]
     },
     "execution_count": 3,
     "metadata": {},
     "output_type": "execute_result"
    }
   ],
   "source": [
    "df=pd.read_csv('https://github.com/prasertcbs/basic-dataset/raw/master/dict_list_column.tsv', sep='\\t')\n",
    "df"
   ]
  },
  {
   "cell_type": "code",
   "execution_count": 4,
   "id": "common-capture",
   "metadata": {},
   "outputs": [
    {
     "data": {
      "text/plain": [
       "str"
      ]
     },
     "execution_count": 4,
     "metadata": {},
     "output_type": "execute_result"
    }
   ],
   "source": [
    "type(df['price'][0])"
   ]
  },
  {
   "cell_type": "code",
   "execution_count": 5,
   "id": "imported-circumstances",
   "metadata": {},
   "outputs": [
    {
     "data": {
      "text/plain": [
       "str"
      ]
     },
     "execution_count": 5,
     "metadata": {},
     "output_type": "execute_result"
    }
   ],
   "source": [
    "type(df['price2'][0])"
   ]
  },
  {
   "cell_type": "code",
   "execution_count": 6,
   "id": "applicable-arrow",
   "metadata": {},
   "outputs": [
    {
     "data": {
      "text/plain": [
       "str"
      ]
     },
     "execution_count": 6,
     "metadata": {},
     "output_type": "execute_result"
    }
   ],
   "source": [
    "type(df['orders2'][0])"
   ]
  },
  {
   "cell_type": "code",
   "execution_count": 7,
   "id": "demonstrated-central",
   "metadata": {},
   "outputs": [
    {
     "data": {
      "text/plain": [
       "str"
      ]
     },
     "execution_count": 7,
     "metadata": {},
     "output_type": "execute_result"
    }
   ],
   "source": [
    "type(df['serve2'][0])"
   ]
  },
  {
   "cell_type": "markdown",
   "id": "muslim-colonial",
   "metadata": {},
   "source": [
    "## json.loads"
   ]
  },
  {
   "cell_type": "code",
   "execution_count": 8,
   "id": "ahead-calgary",
   "metadata": {},
   "outputs": [
    {
     "data": {
      "text/plain": [
       "{'S': 40, 'M': 50, 'L': 60}"
      ]
     },
     "execution_count": 8,
     "metadata": {},
     "output_type": "execute_result"
    }
   ],
   "source": [
    "json.loads('{\"S\":40, \"M\":50, \"L\":60}')"
   ]
  },
  {
   "cell_type": "code",
   "execution_count": 9,
   "id": "quantitative-understanding",
   "metadata": {},
   "outputs": [
    {
     "data": {
      "text/html": [
       "<div>\n",
       "<style scoped>\n",
       "    .dataframe tbody tr th:only-of-type {\n",
       "        vertical-align: middle;\n",
       "    }\n",
       "\n",
       "    .dataframe tbody tr th {\n",
       "        vertical-align: top;\n",
       "    }\n",
       "\n",
       "    .dataframe thead th {\n",
       "        text-align: right;\n",
       "    }\n",
       "</style>\n",
       "<table border=\"1\" class=\"dataframe\">\n",
       "  <thead>\n",
       "    <tr style=\"text-align: right;\">\n",
       "      <th></th>\n",
       "      <th>menu</th>\n",
       "      <th>price</th>\n",
       "      <th>price2</th>\n",
       "      <th>orders</th>\n",
       "      <th>orders2</th>\n",
       "      <th>serve</th>\n",
       "      <th>serve2</th>\n",
       "      <th>price_j</th>\n",
       "    </tr>\n",
       "  </thead>\n",
       "  <tbody>\n",
       "    <tr>\n",
       "      <th>0</th>\n",
       "      <td>mocha</td>\n",
       "      <td>{\"S\":40, \"M\":50, \"L\":60}</td>\n",
       "      <td>{'S':40, 'M':50, 'L':60}</td>\n",
       "      <td>70,10,100</td>\n",
       "      <td>[70,10,100]</td>\n",
       "      <td>hot,cold,frappe</td>\n",
       "      <td>['hot', 'cold', 'frappe']</td>\n",
       "      <td>{'S': 40, 'M': 50, 'L': 60}</td>\n",
       "    </tr>\n",
       "    <tr>\n",
       "      <th>1</th>\n",
       "      <td>latte</td>\n",
       "      <td>{\"S\":45, \"M\":60, \"L\":70}</td>\n",
       "      <td>{'S':45, 'M':60, 'L':70}</td>\n",
       "      <td>40,20,80</td>\n",
       "      <td>[40,20,80]</td>\n",
       "      <td>hot,cold</td>\n",
       "      <td>['hot', 'cold']</td>\n",
       "      <td>{'S': 45, 'M': 60, 'L': 70}</td>\n",
       "    </tr>\n",
       "    <tr>\n",
       "      <th>2</th>\n",
       "      <td>espresso</td>\n",
       "      <td>{\"S\":39, \"M\":49, \"L\":59}</td>\n",
       "      <td>{'S':39, 'M':49, 'L':59}</td>\n",
       "      <td>120,5,50</td>\n",
       "      <td>[120,5,50]</td>\n",
       "      <td>hot</td>\n",
       "      <td>['hot']</td>\n",
       "      <td>{'S': 39, 'M': 49, 'L': 59}</td>\n",
       "    </tr>\n",
       "  </tbody>\n",
       "</table>\n",
       "</div>"
      ],
      "text/plain": [
       "       menu                     price                    price2     orders  \\\n",
       "0     mocha  {\"S\":40, \"M\":50, \"L\":60}  {'S':40, 'M':50, 'L':60}  70,10,100   \n",
       "1     latte  {\"S\":45, \"M\":60, \"L\":70}  {'S':45, 'M':60, 'L':70}   40,20,80   \n",
       "2  espresso  {\"S\":39, \"M\":49, \"L\":59}  {'S':39, 'M':49, 'L':59}   120,5,50   \n",
       "\n",
       "       orders2            serve                     serve2  \\\n",
       "0  [70,10,100]  hot,cold,frappe  ['hot', 'cold', 'frappe']   \n",
       "1   [40,20,80]         hot,cold            ['hot', 'cold']   \n",
       "2   [120,5,50]              hot                    ['hot']   \n",
       "\n",
       "                       price_j  \n",
       "0  {'S': 40, 'M': 50, 'L': 60}  \n",
       "1  {'S': 45, 'M': 60, 'L': 70}  \n",
       "2  {'S': 39, 'M': 49, 'L': 59}  "
      ]
     },
     "execution_count": 9,
     "metadata": {},
     "output_type": "execute_result"
    }
   ],
   "source": [
    "df['price_j']=df['price'].apply(lambda s: json.loads(s))\n",
    "df"
   ]
  },
  {
   "cell_type": "markdown",
   "id": "governing-american",
   "metadata": {},
   "source": [
    "## ast.literal_eval"
   ]
  },
  {
   "cell_type": "code",
   "execution_count": 10,
   "id": "handmade-attribute",
   "metadata": {},
   "outputs": [
    {
     "data": {
      "text/plain": [
       "{'S': 40, 'M': 50, 'L': 60}"
      ]
     },
     "execution_count": 10,
     "metadata": {},
     "output_type": "execute_result"
    }
   ],
   "source": [
    "# credit: https://stackoverflow.com/questions/4162642/single-vs-double-quotes-in-json\n",
    "ast.literal_eval('{\"S\":40, \"M\":50, \"L\":60}')"
   ]
  },
  {
   "cell_type": "code",
   "execution_count": 11,
   "id": "faced-poverty",
   "metadata": {},
   "outputs": [
    {
     "data": {
      "text/plain": [
       "{'S': 40, 'M': 50, 'L': 60}"
      ]
     },
     "execution_count": 11,
     "metadata": {},
     "output_type": "execute_result"
    }
   ],
   "source": [
    "ast.literal_eval(\"{'S':40, 'M':50, 'L':60}\")"
   ]
  },
  {
   "cell_type": "code",
   "execution_count": 12,
   "id": "approved-large",
   "metadata": {},
   "outputs": [
    {
     "data": {
      "text/plain": [
       "\"{'S':40, 'M':50, 'L':60}\""
      ]
     },
     "execution_count": 12,
     "metadata": {},
     "output_type": "execute_result"
    }
   ],
   "source": [
    "df['price2'][0]"
   ]
  },
  {
   "cell_type": "code",
   "execution_count": 13,
   "id": "checked-cancer",
   "metadata": {},
   "outputs": [
    {
     "name": "stdout",
     "output_type": "stream",
     "text": [
      "<class 'dict'>\n",
      "{'S': 40, 'M': 50, 'L': 60}\n"
     ]
    }
   ],
   "source": [
    "j=ast.literal_eval(df['price'][0])\n",
    "print(type(j))\n",
    "print(j)"
   ]
  },
  {
   "cell_type": "code",
   "execution_count": 14,
   "id": "extraordinary-sampling",
   "metadata": {},
   "outputs": [
    {
     "data": {
      "text/html": [
       "<div>\n",
       "<style scoped>\n",
       "    .dataframe tbody tr th:only-of-type {\n",
       "        vertical-align: middle;\n",
       "    }\n",
       "\n",
       "    .dataframe tbody tr th {\n",
       "        vertical-align: top;\n",
       "    }\n",
       "\n",
       "    .dataframe thead th {\n",
       "        text-align: right;\n",
       "    }\n",
       "</style>\n",
       "<table border=\"1\" class=\"dataframe\">\n",
       "  <thead>\n",
       "    <tr style=\"text-align: right;\">\n",
       "      <th></th>\n",
       "      <th>menu</th>\n",
       "      <th>price</th>\n",
       "      <th>price2</th>\n",
       "      <th>orders</th>\n",
       "      <th>orders2</th>\n",
       "      <th>serve</th>\n",
       "      <th>serve2</th>\n",
       "      <th>price_j</th>\n",
       "    </tr>\n",
       "  </thead>\n",
       "  <tbody>\n",
       "    <tr>\n",
       "      <th>0</th>\n",
       "      <td>mocha</td>\n",
       "      <td>{\"S\":40, \"M\":50, \"L\":60}</td>\n",
       "      <td>{'S':40, 'M':50, 'L':60}</td>\n",
       "      <td>70,10,100</td>\n",
       "      <td>[70,10,100]</td>\n",
       "      <td>hot,cold,frappe</td>\n",
       "      <td>['hot', 'cold', 'frappe']</td>\n",
       "      <td>{'S': 40, 'M': 50, 'L': 60}</td>\n",
       "    </tr>\n",
       "    <tr>\n",
       "      <th>1</th>\n",
       "      <td>latte</td>\n",
       "      <td>{\"S\":45, \"M\":60, \"L\":70}</td>\n",
       "      <td>{'S':45, 'M':60, 'L':70}</td>\n",
       "      <td>40,20,80</td>\n",
       "      <td>[40,20,80]</td>\n",
       "      <td>hot,cold</td>\n",
       "      <td>['hot', 'cold']</td>\n",
       "      <td>{'S': 45, 'M': 60, 'L': 70}</td>\n",
       "    </tr>\n",
       "    <tr>\n",
       "      <th>2</th>\n",
       "      <td>espresso</td>\n",
       "      <td>{\"S\":39, \"M\":49, \"L\":59}</td>\n",
       "      <td>{'S':39, 'M':49, 'L':59}</td>\n",
       "      <td>120,5,50</td>\n",
       "      <td>[120,5,50]</td>\n",
       "      <td>hot</td>\n",
       "      <td>['hot']</td>\n",
       "      <td>{'S': 39, 'M': 49, 'L': 59}</td>\n",
       "    </tr>\n",
       "  </tbody>\n",
       "</table>\n",
       "</div>"
      ],
      "text/plain": [
       "       menu                     price                    price2     orders  \\\n",
       "0     mocha  {\"S\":40, \"M\":50, \"L\":60}  {'S':40, 'M':50, 'L':60}  70,10,100   \n",
       "1     latte  {\"S\":45, \"M\":60, \"L\":70}  {'S':45, 'M':60, 'L':70}   40,20,80   \n",
       "2  espresso  {\"S\":39, \"M\":49, \"L\":59}  {'S':39, 'M':49, 'L':59}   120,5,50   \n",
       "\n",
       "       orders2            serve                     serve2  \\\n",
       "0  [70,10,100]  hot,cold,frappe  ['hot', 'cold', 'frappe']   \n",
       "1   [40,20,80]         hot,cold            ['hot', 'cold']   \n",
       "2   [120,5,50]              hot                    ['hot']   \n",
       "\n",
       "                       price_j  \n",
       "0  {'S': 40, 'M': 50, 'L': 60}  \n",
       "1  {'S': 45, 'M': 60, 'L': 70}  \n",
       "2  {'S': 39, 'M': 49, 'L': 59}  "
      ]
     },
     "execution_count": 14,
     "metadata": {},
     "output_type": "execute_result"
    }
   ],
   "source": [
    "df['price_j']=df['price2'].map(ast.literal_eval)\n",
    "df"
   ]
  },
  {
   "cell_type": "code",
   "execution_count": 15,
   "id": "robust-plaza",
   "metadata": {},
   "outputs": [
    {
     "data": {
      "text/plain": [
       "dict"
      ]
     },
     "execution_count": 15,
     "metadata": {},
     "output_type": "execute_result"
    }
   ],
   "source": [
    "type(df['price_j'][0])"
   ]
  },
  {
   "cell_type": "markdown",
   "id": "contrary-norfolk",
   "metadata": {},
   "source": [
    "## list"
   ]
  },
  {
   "cell_type": "code",
   "execution_count": 16,
   "id": "capital-norfolk",
   "metadata": {},
   "outputs": [
    {
     "data": {
      "text/plain": [
       "0    [70, 10, 100]\n",
       "1     [40, 20, 80]\n",
       "2     [120, 5, 50]\n",
       "Name: orders, dtype: object"
      ]
     },
     "execution_count": 16,
     "metadata": {},
     "output_type": "execute_result"
    }
   ],
   "source": [
    "df['orders'].str.split(',')"
   ]
  },
  {
   "cell_type": "code",
   "execution_count": 17,
   "id": "unlike-invalid",
   "metadata": {},
   "outputs": [
    {
     "data": {
      "text/plain": [
       "str"
      ]
     },
     "execution_count": 17,
     "metadata": {},
     "output_type": "execute_result"
    }
   ],
   "source": [
    "type(df['orders'][0])"
   ]
  },
  {
   "cell_type": "code",
   "execution_count": 18,
   "id": "awful-straight",
   "metadata": {},
   "outputs": [
    {
     "data": {
      "text/html": [
       "<div>\n",
       "<style scoped>\n",
       "    .dataframe tbody tr th:only-of-type {\n",
       "        vertical-align: middle;\n",
       "    }\n",
       "\n",
       "    .dataframe tbody tr th {\n",
       "        vertical-align: top;\n",
       "    }\n",
       "\n",
       "    .dataframe thead th {\n",
       "        text-align: right;\n",
       "    }\n",
       "</style>\n",
       "<table border=\"1\" class=\"dataframe\">\n",
       "  <thead>\n",
       "    <tr style=\"text-align: right;\">\n",
       "      <th></th>\n",
       "      <th>menu</th>\n",
       "      <th>price</th>\n",
       "      <th>price2</th>\n",
       "      <th>orders</th>\n",
       "      <th>orders2</th>\n",
       "      <th>serve</th>\n",
       "      <th>serve2</th>\n",
       "      <th>price_j</th>\n",
       "      <th>x</th>\n",
       "    </tr>\n",
       "  </thead>\n",
       "  <tbody>\n",
       "    <tr>\n",
       "      <th>0</th>\n",
       "      <td>mocha</td>\n",
       "      <td>{\"S\":40, \"M\":50, \"L\":60}</td>\n",
       "      <td>{'S':40, 'M':50, 'L':60}</td>\n",
       "      <td>70,10,100</td>\n",
       "      <td>[70,10,100]</td>\n",
       "      <td>hot,cold,frappe</td>\n",
       "      <td>['hot', 'cold', 'frappe']</td>\n",
       "      <td>{'S': 40, 'M': 50, 'L': 60}</td>\n",
       "      <td>[70, 10, 100]</td>\n",
       "    </tr>\n",
       "    <tr>\n",
       "      <th>1</th>\n",
       "      <td>latte</td>\n",
       "      <td>{\"S\":45, \"M\":60, \"L\":70}</td>\n",
       "      <td>{'S':45, 'M':60, 'L':70}</td>\n",
       "      <td>40,20,80</td>\n",
       "      <td>[40,20,80]</td>\n",
       "      <td>hot,cold</td>\n",
       "      <td>['hot', 'cold']</td>\n",
       "      <td>{'S': 45, 'M': 60, 'L': 70}</td>\n",
       "      <td>[40, 20, 80]</td>\n",
       "    </tr>\n",
       "    <tr>\n",
       "      <th>2</th>\n",
       "      <td>espresso</td>\n",
       "      <td>{\"S\":39, \"M\":49, \"L\":59}</td>\n",
       "      <td>{'S':39, 'M':49, 'L':59}</td>\n",
       "      <td>120,5,50</td>\n",
       "      <td>[120,5,50]</td>\n",
       "      <td>hot</td>\n",
       "      <td>['hot']</td>\n",
       "      <td>{'S': 39, 'M': 49, 'L': 59}</td>\n",
       "      <td>[120, 5, 50]</td>\n",
       "    </tr>\n",
       "  </tbody>\n",
       "</table>\n",
       "</div>"
      ],
      "text/plain": [
       "       menu                     price                    price2     orders  \\\n",
       "0     mocha  {\"S\":40, \"M\":50, \"L\":60}  {'S':40, 'M':50, 'L':60}  70,10,100   \n",
       "1     latte  {\"S\":45, \"M\":60, \"L\":70}  {'S':45, 'M':60, 'L':70}   40,20,80   \n",
       "2  espresso  {\"S\":39, \"M\":49, \"L\":59}  {'S':39, 'M':49, 'L':59}   120,5,50   \n",
       "\n",
       "       orders2            serve                     serve2  \\\n",
       "0  [70,10,100]  hot,cold,frappe  ['hot', 'cold', 'frappe']   \n",
       "1   [40,20,80]         hot,cold            ['hot', 'cold']   \n",
       "2   [120,5,50]              hot                    ['hot']   \n",
       "\n",
       "                       price_j              x  \n",
       "0  {'S': 40, 'M': 50, 'L': 60}  [70, 10, 100]  \n",
       "1  {'S': 45, 'M': 60, 'L': 70}   [40, 20, 80]  \n",
       "2  {'S': 39, 'M': 49, 'L': 59}   [120, 5, 50]  "
      ]
     },
     "execution_count": 18,
     "metadata": {},
     "output_type": "execute_result"
    }
   ],
   "source": [
    "df['x']=pd.eval(df['orders'].str.split(','))\n",
    "df"
   ]
  },
  {
   "cell_type": "code",
   "execution_count": 19,
   "id": "front-biology",
   "metadata": {},
   "outputs": [
    {
     "data": {
      "text/plain": [
       "180"
      ]
     },
     "execution_count": 19,
     "metadata": {},
     "output_type": "execute_result"
    }
   ],
   "source": [
    "sum(df['x'][0])"
   ]
  },
  {
   "cell_type": "code",
   "execution_count": 20,
   "id": "monetary-salem",
   "metadata": {},
   "outputs": [
    {
     "data": {
      "text/plain": [
       "0    [70, 10, 100]\n",
       "1     [40, 20, 80]\n",
       "2     [120, 5, 50]\n",
       "Name: c1, dtype: object"
      ]
     },
     "execution_count": 20,
     "metadata": {},
     "output_type": "execute_result"
    }
   ],
   "source": [
    "df['c1']=df['orders'].str.split(',').apply(lambda v: list(map(int, v)))\n",
    "df['c1']"
   ]
  },
  {
   "cell_type": "code",
   "execution_count": 21,
   "id": "assured-commodity",
   "metadata": {},
   "outputs": [
    {
     "data": {
      "text/plain": [
       "[70, 10, 100]"
      ]
     },
     "execution_count": 21,
     "metadata": {},
     "output_type": "execute_result"
    }
   ],
   "source": [
    "df['c1'][0]"
   ]
  },
  {
   "cell_type": "code",
   "execution_count": 22,
   "id": "alien-findings",
   "metadata": {},
   "outputs": [
    {
     "data": {
      "text/html": [
       "<div>\n",
       "<style scoped>\n",
       "    .dataframe tbody tr th:only-of-type {\n",
       "        vertical-align: middle;\n",
       "    }\n",
       "\n",
       "    .dataframe tbody tr th {\n",
       "        vertical-align: top;\n",
       "    }\n",
       "\n",
       "    .dataframe thead th {\n",
       "        text-align: right;\n",
       "    }\n",
       "</style>\n",
       "<table border=\"1\" class=\"dataframe\">\n",
       "  <thead>\n",
       "    <tr style=\"text-align: right;\">\n",
       "      <th></th>\n",
       "      <th>menu</th>\n",
       "      <th>price</th>\n",
       "      <th>price2</th>\n",
       "      <th>orders</th>\n",
       "      <th>orders2</th>\n",
       "      <th>serve</th>\n",
       "      <th>serve2</th>\n",
       "      <th>price_j</th>\n",
       "      <th>x</th>\n",
       "      <th>c1</th>\n",
       "      <th>c2</th>\n",
       "    </tr>\n",
       "  </thead>\n",
       "  <tbody>\n",
       "    <tr>\n",
       "      <th>0</th>\n",
       "      <td>mocha</td>\n",
       "      <td>{\"S\":40, \"M\":50, \"L\":60}</td>\n",
       "      <td>{'S':40, 'M':50, 'L':60}</td>\n",
       "      <td>70,10,100</td>\n",
       "      <td>[70,10,100]</td>\n",
       "      <td>hot,cold,frappe</td>\n",
       "      <td>['hot', 'cold', 'frappe']</td>\n",
       "      <td>{'S': 40, 'M': 50, 'L': 60}</td>\n",
       "      <td>[70, 10, 100]</td>\n",
       "      <td>[70, 10, 100]</td>\n",
       "      <td>[70, 10, 100]</td>\n",
       "    </tr>\n",
       "    <tr>\n",
       "      <th>1</th>\n",
       "      <td>latte</td>\n",
       "      <td>{\"S\":45, \"M\":60, \"L\":70}</td>\n",
       "      <td>{'S':45, 'M':60, 'L':70}</td>\n",
       "      <td>40,20,80</td>\n",
       "      <td>[40,20,80]</td>\n",
       "      <td>hot,cold</td>\n",
       "      <td>['hot', 'cold']</td>\n",
       "      <td>{'S': 45, 'M': 60, 'L': 70}</td>\n",
       "      <td>[40, 20, 80]</td>\n",
       "      <td>[40, 20, 80]</td>\n",
       "      <td>[40, 20, 80]</td>\n",
       "    </tr>\n",
       "    <tr>\n",
       "      <th>2</th>\n",
       "      <td>espresso</td>\n",
       "      <td>{\"S\":39, \"M\":49, \"L\":59}</td>\n",
       "      <td>{'S':39, 'M':49, 'L':59}</td>\n",
       "      <td>120,5,50</td>\n",
       "      <td>[120,5,50]</td>\n",
       "      <td>hot</td>\n",
       "      <td>['hot']</td>\n",
       "      <td>{'S': 39, 'M': 49, 'L': 59}</td>\n",
       "      <td>[120, 5, 50]</td>\n",
       "      <td>[120, 5, 50]</td>\n",
       "      <td>[120, 5, 50]</td>\n",
       "    </tr>\n",
       "  </tbody>\n",
       "</table>\n",
       "</div>"
      ],
      "text/plain": [
       "       menu                     price                    price2     orders  \\\n",
       "0     mocha  {\"S\":40, \"M\":50, \"L\":60}  {'S':40, 'M':50, 'L':60}  70,10,100   \n",
       "1     latte  {\"S\":45, \"M\":60, \"L\":70}  {'S':45, 'M':60, 'L':70}   40,20,80   \n",
       "2  espresso  {\"S\":39, \"M\":49, \"L\":59}  {'S':39, 'M':49, 'L':59}   120,5,50   \n",
       "\n",
       "       orders2            serve                     serve2  \\\n",
       "0  [70,10,100]  hot,cold,frappe  ['hot', 'cold', 'frappe']   \n",
       "1   [40,20,80]         hot,cold            ['hot', 'cold']   \n",
       "2   [120,5,50]              hot                    ['hot']   \n",
       "\n",
       "                       price_j              x             c1             c2  \n",
       "0  {'S': 40, 'M': 50, 'L': 60}  [70, 10, 100]  [70, 10, 100]  [70, 10, 100]  \n",
       "1  {'S': 45, 'M': 60, 'L': 70}   [40, 20, 80]   [40, 20, 80]   [40, 20, 80]  \n",
       "2  {'S': 39, 'M': 49, 'L': 59}   [120, 5, 50]   [120, 5, 50]   [120, 5, 50]  "
      ]
     },
     "execution_count": 22,
     "metadata": {},
     "output_type": "execute_result"
    }
   ],
   "source": [
    "df['c2']=pd.eval(df['orders2'])\n",
    "df"
   ]
  },
  {
   "cell_type": "code",
   "execution_count": 23,
   "id": "collaborative-estate",
   "metadata": {},
   "outputs": [
    {
     "data": {
      "text/plain": [
       "[70, 10, 100]"
      ]
     },
     "execution_count": 23,
     "metadata": {},
     "output_type": "execute_result"
    }
   ],
   "source": [
    "df['c2'][0]"
   ]
  },
  {
   "cell_type": "code",
   "execution_count": 24,
   "id": "fiscal-genesis",
   "metadata": {},
   "outputs": [
    {
     "data": {
      "text/html": [
       "<div>\n",
       "<style scoped>\n",
       "    .dataframe tbody tr th:only-of-type {\n",
       "        vertical-align: middle;\n",
       "    }\n",
       "\n",
       "    .dataframe tbody tr th {\n",
       "        vertical-align: top;\n",
       "    }\n",
       "\n",
       "    .dataframe thead th {\n",
       "        text-align: right;\n",
       "    }\n",
       "</style>\n",
       "<table border=\"1\" class=\"dataframe\">\n",
       "  <thead>\n",
       "    <tr style=\"text-align: right;\">\n",
       "      <th></th>\n",
       "      <th>menu</th>\n",
       "      <th>price</th>\n",
       "      <th>price2</th>\n",
       "      <th>orders</th>\n",
       "      <th>orders2</th>\n",
       "      <th>serve</th>\n",
       "      <th>serve2</th>\n",
       "      <th>price_j</th>\n",
       "      <th>x</th>\n",
       "      <th>c1</th>\n",
       "      <th>c2</th>\n",
       "      <th>d1</th>\n",
       "    </tr>\n",
       "  </thead>\n",
       "  <tbody>\n",
       "    <tr>\n",
       "      <th>0</th>\n",
       "      <td>mocha</td>\n",
       "      <td>{\"S\":40, \"M\":50, \"L\":60}</td>\n",
       "      <td>{'S':40, 'M':50, 'L':60}</td>\n",
       "      <td>70,10,100</td>\n",
       "      <td>[70,10,100]</td>\n",
       "      <td>hot,cold,frappe</td>\n",
       "      <td>['hot', 'cold', 'frappe']</td>\n",
       "      <td>{'S': 40, 'M': 50, 'L': 60}</td>\n",
       "      <td>[70, 10, 100]</td>\n",
       "      <td>[70, 10, 100]</td>\n",
       "      <td>[70, 10, 100]</td>\n",
       "      <td>[hot, cold, frappe]</td>\n",
       "    </tr>\n",
       "    <tr>\n",
       "      <th>1</th>\n",
       "      <td>latte</td>\n",
       "      <td>{\"S\":45, \"M\":60, \"L\":70}</td>\n",
       "      <td>{'S':45, 'M':60, 'L':70}</td>\n",
       "      <td>40,20,80</td>\n",
       "      <td>[40,20,80]</td>\n",
       "      <td>hot,cold</td>\n",
       "      <td>['hot', 'cold']</td>\n",
       "      <td>{'S': 45, 'M': 60, 'L': 70}</td>\n",
       "      <td>[40, 20, 80]</td>\n",
       "      <td>[40, 20, 80]</td>\n",
       "      <td>[40, 20, 80]</td>\n",
       "      <td>[hot, cold]</td>\n",
       "    </tr>\n",
       "    <tr>\n",
       "      <th>2</th>\n",
       "      <td>espresso</td>\n",
       "      <td>{\"S\":39, \"M\":49, \"L\":59}</td>\n",
       "      <td>{'S':39, 'M':49, 'L':59}</td>\n",
       "      <td>120,5,50</td>\n",
       "      <td>[120,5,50]</td>\n",
       "      <td>hot</td>\n",
       "      <td>['hot']</td>\n",
       "      <td>{'S': 39, 'M': 49, 'L': 59}</td>\n",
       "      <td>[120, 5, 50]</td>\n",
       "      <td>[120, 5, 50]</td>\n",
       "      <td>[120, 5, 50]</td>\n",
       "      <td>[hot]</td>\n",
       "    </tr>\n",
       "  </tbody>\n",
       "</table>\n",
       "</div>"
      ],
      "text/plain": [
       "       menu                     price                    price2     orders  \\\n",
       "0     mocha  {\"S\":40, \"M\":50, \"L\":60}  {'S':40, 'M':50, 'L':60}  70,10,100   \n",
       "1     latte  {\"S\":45, \"M\":60, \"L\":70}  {'S':45, 'M':60, 'L':70}   40,20,80   \n",
       "2  espresso  {\"S\":39, \"M\":49, \"L\":59}  {'S':39, 'M':49, 'L':59}   120,5,50   \n",
       "\n",
       "       orders2            serve                     serve2  \\\n",
       "0  [70,10,100]  hot,cold,frappe  ['hot', 'cold', 'frappe']   \n",
       "1   [40,20,80]         hot,cold            ['hot', 'cold']   \n",
       "2   [120,5,50]              hot                    ['hot']   \n",
       "\n",
       "                       price_j              x             c1             c2  \\\n",
       "0  {'S': 40, 'M': 50, 'L': 60}  [70, 10, 100]  [70, 10, 100]  [70, 10, 100]   \n",
       "1  {'S': 45, 'M': 60, 'L': 70}   [40, 20, 80]   [40, 20, 80]   [40, 20, 80]   \n",
       "2  {'S': 39, 'M': 49, 'L': 59}   [120, 5, 50]   [120, 5, 50]   [120, 5, 50]   \n",
       "\n",
       "                    d1  \n",
       "0  [hot, cold, frappe]  \n",
       "1          [hot, cold]  \n",
       "2                [hot]  "
      ]
     },
     "execution_count": 24,
     "metadata": {},
     "output_type": "execute_result"
    }
   ],
   "source": [
    "df['d1']=df['serve'].str.split(',')\n",
    "df"
   ]
  },
  {
   "cell_type": "code",
   "execution_count": 25,
   "id": "dimensional-respondent",
   "metadata": {},
   "outputs": [
    {
     "data": {
      "text/html": [
       "<div>\n",
       "<style scoped>\n",
       "    .dataframe tbody tr th:only-of-type {\n",
       "        vertical-align: middle;\n",
       "    }\n",
       "\n",
       "    .dataframe tbody tr th {\n",
       "        vertical-align: top;\n",
       "    }\n",
       "\n",
       "    .dataframe thead th {\n",
       "        text-align: right;\n",
       "    }\n",
       "</style>\n",
       "<table border=\"1\" class=\"dataframe\">\n",
       "  <thead>\n",
       "    <tr style=\"text-align: right;\">\n",
       "      <th></th>\n",
       "      <th>menu</th>\n",
       "      <th>price</th>\n",
       "      <th>price2</th>\n",
       "      <th>orders</th>\n",
       "      <th>orders2</th>\n",
       "      <th>serve</th>\n",
       "      <th>serve2</th>\n",
       "      <th>price_j</th>\n",
       "      <th>x</th>\n",
       "      <th>c1</th>\n",
       "      <th>c2</th>\n",
       "      <th>d1</th>\n",
       "      <th>d2</th>\n",
       "    </tr>\n",
       "  </thead>\n",
       "  <tbody>\n",
       "    <tr>\n",
       "      <th>0</th>\n",
       "      <td>mocha</td>\n",
       "      <td>{\"S\":40, \"M\":50, \"L\":60}</td>\n",
       "      <td>{'S':40, 'M':50, 'L':60}</td>\n",
       "      <td>70,10,100</td>\n",
       "      <td>[70,10,100]</td>\n",
       "      <td>hot,cold,frappe</td>\n",
       "      <td>['hot', 'cold', 'frappe']</td>\n",
       "      <td>{'S': 40, 'M': 50, 'L': 60}</td>\n",
       "      <td>[70, 10, 100]</td>\n",
       "      <td>[70, 10, 100]</td>\n",
       "      <td>[70, 10, 100]</td>\n",
       "      <td>[hot, cold, frappe]</td>\n",
       "      <td>[hot, cold, frappe]</td>\n",
       "    </tr>\n",
       "    <tr>\n",
       "      <th>1</th>\n",
       "      <td>latte</td>\n",
       "      <td>{\"S\":45, \"M\":60, \"L\":70}</td>\n",
       "      <td>{'S':45, 'M':60, 'L':70}</td>\n",
       "      <td>40,20,80</td>\n",
       "      <td>[40,20,80]</td>\n",
       "      <td>hot,cold</td>\n",
       "      <td>['hot', 'cold']</td>\n",
       "      <td>{'S': 45, 'M': 60, 'L': 70}</td>\n",
       "      <td>[40, 20, 80]</td>\n",
       "      <td>[40, 20, 80]</td>\n",
       "      <td>[40, 20, 80]</td>\n",
       "      <td>[hot, cold]</td>\n",
       "      <td>[hot, cold]</td>\n",
       "    </tr>\n",
       "    <tr>\n",
       "      <th>2</th>\n",
       "      <td>espresso</td>\n",
       "      <td>{\"S\":39, \"M\":49, \"L\":59}</td>\n",
       "      <td>{'S':39, 'M':49, 'L':59}</td>\n",
       "      <td>120,5,50</td>\n",
       "      <td>[120,5,50]</td>\n",
       "      <td>hot</td>\n",
       "      <td>['hot']</td>\n",
       "      <td>{'S': 39, 'M': 49, 'L': 59}</td>\n",
       "      <td>[120, 5, 50]</td>\n",
       "      <td>[120, 5, 50]</td>\n",
       "      <td>[120, 5, 50]</td>\n",
       "      <td>[hot]</td>\n",
       "      <td>[hot]</td>\n",
       "    </tr>\n",
       "  </tbody>\n",
       "</table>\n",
       "</div>"
      ],
      "text/plain": [
       "       menu                     price                    price2     orders  \\\n",
       "0     mocha  {\"S\":40, \"M\":50, \"L\":60}  {'S':40, 'M':50, 'L':60}  70,10,100   \n",
       "1     latte  {\"S\":45, \"M\":60, \"L\":70}  {'S':45, 'M':60, 'L':70}   40,20,80   \n",
       "2  espresso  {\"S\":39, \"M\":49, \"L\":59}  {'S':39, 'M':49, 'L':59}   120,5,50   \n",
       "\n",
       "       orders2            serve                     serve2  \\\n",
       "0  [70,10,100]  hot,cold,frappe  ['hot', 'cold', 'frappe']   \n",
       "1   [40,20,80]         hot,cold            ['hot', 'cold']   \n",
       "2   [120,5,50]              hot                    ['hot']   \n",
       "\n",
       "                       price_j              x             c1             c2  \\\n",
       "0  {'S': 40, 'M': 50, 'L': 60}  [70, 10, 100]  [70, 10, 100]  [70, 10, 100]   \n",
       "1  {'S': 45, 'M': 60, 'L': 70}   [40, 20, 80]   [40, 20, 80]   [40, 20, 80]   \n",
       "2  {'S': 39, 'M': 49, 'L': 59}   [120, 5, 50]   [120, 5, 50]   [120, 5, 50]   \n",
       "\n",
       "                    d1                   d2  \n",
       "0  [hot, cold, frappe]  [hot, cold, frappe]  \n",
       "1          [hot, cold]          [hot, cold]  \n",
       "2                [hot]                [hot]  "
      ]
     },
     "execution_count": 25,
     "metadata": {},
     "output_type": "execute_result"
    }
   ],
   "source": [
    "df['d2']=pd.eval(df['serve2'])\n",
    "df"
   ]
  },
  {
   "cell_type": "code",
   "execution_count": 26,
   "id": "medium-interstate",
   "metadata": {},
   "outputs": [
    {
     "data": {
      "text/html": [
       "<div>\n",
       "<style scoped>\n",
       "    .dataframe tbody tr th:only-of-type {\n",
       "        vertical-align: middle;\n",
       "    }\n",
       "\n",
       "    .dataframe tbody tr th {\n",
       "        vertical-align: top;\n",
       "    }\n",
       "\n",
       "    .dataframe thead th {\n",
       "        text-align: right;\n",
       "    }\n",
       "</style>\n",
       "<table border=\"1\" class=\"dataframe\">\n",
       "  <thead>\n",
       "    <tr style=\"text-align: right;\">\n",
       "      <th></th>\n",
       "      <th>menu</th>\n",
       "      <th>price</th>\n",
       "      <th>price2</th>\n",
       "      <th>orders</th>\n",
       "      <th>orders2</th>\n",
       "      <th>serve</th>\n",
       "      <th>serve2</th>\n",
       "      <th>price_j</th>\n",
       "      <th>x</th>\n",
       "      <th>c1</th>\n",
       "      <th>c2</th>\n",
       "      <th>d1</th>\n",
       "      <th>d2</th>\n",
       "    </tr>\n",
       "  </thead>\n",
       "  <tbody>\n",
       "    <tr>\n",
       "      <th>0</th>\n",
       "      <td>mocha</td>\n",
       "      <td>{\"S\":40, \"M\":50, \"L\":60}</td>\n",
       "      <td>{'S':40, 'M':50, 'L':60}</td>\n",
       "      <td>70,10,100</td>\n",
       "      <td>[70,10,100]</td>\n",
       "      <td>hot,cold,frappe</td>\n",
       "      <td>['hot', 'cold', 'frappe']</td>\n",
       "      <td>{'S': 40, 'M': 50, 'L': 60}</td>\n",
       "      <td>[70, 10, 100]</td>\n",
       "      <td>[70, 10, 100]</td>\n",
       "      <td>[70, 10, 100]</td>\n",
       "      <td>[hot, cold, frappe]</td>\n",
       "      <td>[hot, cold, frappe]</td>\n",
       "    </tr>\n",
       "    <tr>\n",
       "      <th>1</th>\n",
       "      <td>latte</td>\n",
       "      <td>{\"S\":45, \"M\":60, \"L\":70}</td>\n",
       "      <td>{'S':45, 'M':60, 'L':70}</td>\n",
       "      <td>40,20,80</td>\n",
       "      <td>[40,20,80]</td>\n",
       "      <td>hot,cold</td>\n",
       "      <td>['hot', 'cold']</td>\n",
       "      <td>{'S': 45, 'M': 60, 'L': 70}</td>\n",
       "      <td>[40, 20, 80]</td>\n",
       "      <td>[40, 20, 80]</td>\n",
       "      <td>[40, 20, 80]</td>\n",
       "      <td>[hot, cold]</td>\n",
       "      <td>[hot, cold]</td>\n",
       "    </tr>\n",
       "    <tr>\n",
       "      <th>2</th>\n",
       "      <td>espresso</td>\n",
       "      <td>{\"S\":39, \"M\":49, \"L\":59}</td>\n",
       "      <td>{'S':39, 'M':49, 'L':59}</td>\n",
       "      <td>120,5,50</td>\n",
       "      <td>[120,5,50]</td>\n",
       "      <td>hot</td>\n",
       "      <td>['hot']</td>\n",
       "      <td>{'S': 39, 'M': 49, 'L': 59}</td>\n",
       "      <td>[120, 5, 50]</td>\n",
       "      <td>[120, 5, 50]</td>\n",
       "      <td>[120, 5, 50]</td>\n",
       "      <td>[hot]</td>\n",
       "      <td>[hot]</td>\n",
       "    </tr>\n",
       "  </tbody>\n",
       "</table>\n",
       "</div>"
      ],
      "text/plain": [
       "       menu                     price                    price2     orders  \\\n",
       "0     mocha  {\"S\":40, \"M\":50, \"L\":60}  {'S':40, 'M':50, 'L':60}  70,10,100   \n",
       "1     latte  {\"S\":45, \"M\":60, \"L\":70}  {'S':45, 'M':60, 'L':70}   40,20,80   \n",
       "2  espresso  {\"S\":39, \"M\":49, \"L\":59}  {'S':39, 'M':49, 'L':59}   120,5,50   \n",
       "\n",
       "       orders2            serve                     serve2  \\\n",
       "0  [70,10,100]  hot,cold,frappe  ['hot', 'cold', 'frappe']   \n",
       "1   [40,20,80]         hot,cold            ['hot', 'cold']   \n",
       "2   [120,5,50]              hot                    ['hot']   \n",
       "\n",
       "                       price_j              x             c1             c2  \\\n",
       "0  {'S': 40, 'M': 50, 'L': 60}  [70, 10, 100]  [70, 10, 100]  [70, 10, 100]   \n",
       "1  {'S': 45, 'M': 60, 'L': 70}   [40, 20, 80]   [40, 20, 80]   [40, 20, 80]   \n",
       "2  {'S': 39, 'M': 49, 'L': 59}   [120, 5, 50]   [120, 5, 50]   [120, 5, 50]   \n",
       "\n",
       "                    d1                   d2  \n",
       "0  [hot, cold, frappe]  [hot, cold, frappe]  \n",
       "1          [hot, cold]          [hot, cold]  \n",
       "2                [hot]                [hot]  "
      ]
     },
     "execution_count": 26,
     "metadata": {},
     "output_type": "execute_result"
    }
   ],
   "source": [
    "df['d2']=df['serve2'].map(ast.literal_eval)\n",
    "df"
   ]
  },
  {
   "cell_type": "code",
   "execution_count": 27,
   "id": "bridal-accordance",
   "metadata": {},
   "outputs": [
    {
     "data": {
      "text/plain": [
       "['hot', 'cold', 'frappe']"
      ]
     },
     "execution_count": 27,
     "metadata": {},
     "output_type": "execute_result"
    }
   ],
   "source": [
    "df['d2'][0]"
   ]
  },
  {
   "cell_type": "code",
   "execution_count": 28,
   "id": "weekly-target",
   "metadata": {},
   "outputs": [
    {
     "data": {
      "text/plain": [
       "'frappe'"
      ]
     },
     "execution_count": 28,
     "metadata": {},
     "output_type": "execute_result"
    }
   ],
   "source": [
    "df['d2'][0][2]"
   ]
  },
  {
   "cell_type": "code",
   "execution_count": null,
   "id": "negative-symphony",
   "metadata": {},
   "outputs": [],
   "source": []
  }
 ],
 "metadata": {
  "kernelspec": {
   "display_name": "Python 3",
   "language": "python",
   "name": "python3"
  },
  "language_info": {
   "codemirror_mode": {
    "name": "ipython",
    "version": 3
   },
   "file_extension": ".py",
   "mimetype": "text/x-python",
   "name": "python",
   "nbconvert_exporter": "python",
   "pygments_lexer": "ipython3",
   "version": "3.7.9"
  },
  "widgets": {
   "application/vnd.jupyter.widget-state+json": {
    "state": {},
    "version_major": 2,
    "version_minor": 0
   }
  }
 },
 "nbformat": 4,
 "nbformat_minor": 5
}
