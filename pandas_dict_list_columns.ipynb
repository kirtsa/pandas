{
 "cells": [
  {
   "cell_type": "markdown",
   "id": "public-giant",
   "metadata": {},
   "source": [
    "# handle list and dict columns"
   ]
  },
  {
   "cell_type": "markdown",
   "id": "beginning-canadian",
   "metadata": {},
   "source": [
    "---\n",
    "* author:  [Prasert Kanawattanachai](prasert.k@chula.ac.th)\n",
    "* YouTube: https://www.youtube.com/prasertcbs\n",
    "* github: https://github.com/prasertcbs/\n",
    "* [Chulalongkorn Business School](https://www.cbs.chula.ac.th/en/)\n",
    "---"
   ]
  },
  {
   "cell_type": "code",
   "execution_count": 1,
   "id": "authentic-german",
   "metadata": {},
   "outputs": [],
   "source": [
    "import re\n",
    "import json\n",
    "import ast # handle single/double quote in dict/json string\n",
    "import pandas as pd\n",
    "import numpy as np"
   ]
  },
  {
   "cell_type": "code",
   "execution_count": 2,
   "id": "black-reduction",
   "metadata": {},
   "outputs": [
    {
     "name": "stdout",
     "output_type": "stream",
     "text": [
      "pandas version: 1.2.1\n",
      "numpy  version: 1.19.2\n",
      "2021-02-21 07:23:07.308281\n"
     ]
    }
   ],
   "source": [
    "print(f'pandas version: {pd.__version__}')\n",
    "print(f'numpy  version: {np.__version__}')\n",
    "print(pd.Timestamp.now())"
   ]
  },
  {
   "cell_type": "code",
   "execution_count": 3,
   "id": "wooden-illustration",
   "metadata": {},
   "outputs": [
    {
     "data": {
      "text/html": [
       "<div>\n",
       "<style scoped>\n",
       "    .dataframe tbody tr th:only-of-type {\n",
       "        vertical-align: middle;\n",
       "    }\n",
       "\n",
       "    .dataframe tbody tr th {\n",
       "        vertical-align: top;\n",
       "    }\n",
       "\n",
       "    .dataframe thead th {\n",
       "        text-align: right;\n",
       "    }\n",
       "</style>\n",
       "<table border=\"1\" class=\"dataframe\">\n",
       "  <thead>\n",
       "    <tr style=\"text-align: right;\">\n",
       "      <th></th>\n",
       "      <th>menu</th>\n",
       "      <th>price</th>\n",
       "      <th>price2</th>\n",
       "      <th>orders</th>\n",
       "      <th>orders2</th>\n",
       "      <th>serve</th>\n",
       "      <th>serve2</th>\n",
       "    </tr>\n",
       "  </thead>\n",
       "  <tbody>\n",
       "    <tr>\n",
       "      <th>0</th>\n",
       "      <td>mocha</td>\n",
       "      <td>{\"S\":40, \"M\":50, \"L\":60}</td>\n",
       "      <td>{'S':40, 'M':50, 'L':60}</td>\n",
       "      <td>70,10,100</td>\n",
       "      <td>[70,10,100]</td>\n",
       "      <td>hot,cold,frappe</td>\n",
       "      <td>['hot', 'cold', 'frappe']</td>\n",
       "    </tr>\n",
       "    <tr>\n",
       "      <th>1</th>\n",
       "      <td>latte</td>\n",
       "      <td>{\"S\":45, \"M\":60, \"L\":70}</td>\n",
       "      <td>{'S':45, 'M':60, 'L':70}</td>\n",
       "      <td>40,20,80</td>\n",
       "      <td>[40,20,80]</td>\n",
       "      <td>hot,cold</td>\n",
       "      <td>['hot', 'cold']</td>\n",
       "    </tr>\n",
       "    <tr>\n",
       "      <th>2</th>\n",
       "      <td>espresso</td>\n",
       "      <td>{\"S\":39, \"M\":49, \"L\":59}</td>\n",
       "      <td>{'S':39, 'M':49, 'L':59}</td>\n",
       "      <td>120,5,50</td>\n",
       "      <td>[120,5,50]</td>\n",
       "      <td>hot</td>\n",
       "      <td>['hot']</td>\n",
       "    </tr>\n",
       "  </tbody>\n",
       "</table>\n",
       "</div>"
      ],
      "text/plain": [
       "       menu                     price                    price2     orders  \\\n",
       "0     mocha  {\"S\":40, \"M\":50, \"L\":60}  {'S':40, 'M':50, 'L':60}  70,10,100   \n",
       "1     latte  {\"S\":45, \"M\":60, \"L\":70}  {'S':45, 'M':60, 'L':70}   40,20,80   \n",
       "2  espresso  {\"S\":39, \"M\":49, \"L\":59}  {'S':39, 'M':49, 'L':59}   120,5,50   \n",
       "\n",
       "       orders2            serve                     serve2  \n",
       "0  [70,10,100]  hot,cold,frappe  ['hot', 'cold', 'frappe']  \n",
       "1   [40,20,80]         hot,cold            ['hot', 'cold']  \n",
       "2   [120,5,50]              hot                    ['hot']  "
      ]
     },
     "execution_count": 3,
     "metadata": {},
     "output_type": "execute_result"
    }
   ],
   "source": [
    "df=pd.read_csv('https://github.com/prasertcbs/basic-dataset/raw/master/dict_list_column.tsv', sep='\\t')\n",
    "df"
   ]
  },
  {
   "cell_type": "code",
   "execution_count": 28,
   "id": "caring-inspection",
   "metadata": {},
   "outputs": [
    {
     "data": {
      "text/plain": [
       "str"
      ]
     },
     "execution_count": 28,
     "metadata": {},
     "output_type": "execute_result"
    }
   ],
   "source": [
    "type(df['price'][0])"
   ]
  },
  {
   "cell_type": "code",
   "execution_count": 29,
   "id": "disabled-philip",
   "metadata": {},
   "outputs": [
    {
     "data": {
      "text/plain": [
       "str"
      ]
     },
     "execution_count": 29,
     "metadata": {},
     "output_type": "execute_result"
    }
   ],
   "source": [
    "type(df['price2'][0])"
   ]
  },
  {
   "cell_type": "code",
   "execution_count": 31,
   "id": "healthy-checklist",
   "metadata": {},
   "outputs": [
    {
     "data": {
      "text/plain": [
       "str"
      ]
     },
     "execution_count": 31,
     "metadata": {},
     "output_type": "execute_result"
    }
   ],
   "source": [
    "type(df['orders2'][0])"
   ]
  },
  {
   "cell_type": "code",
   "execution_count": 32,
   "id": "coral-roberts",
   "metadata": {},
   "outputs": [
    {
     "data": {
      "text/plain": [
       "str"
      ]
     },
     "execution_count": 32,
     "metadata": {},
     "output_type": "execute_result"
    }
   ],
   "source": [
    "type(df['serve2'][0])"
   ]
  },
  {
   "cell_type": "markdown",
   "id": "similar-rapid",
   "metadata": {},
   "source": [
    "## json.loads"
   ]
  },
  {
   "cell_type": "code",
   "execution_count": 5,
   "id": "optimum-throw",
   "metadata": {},
   "outputs": [
    {
     "data": {
      "text/plain": [
       "{'S': 40, 'M': 50, 'L': 60}"
      ]
     },
     "execution_count": 5,
     "metadata": {},
     "output_type": "execute_result"
    }
   ],
   "source": [
    "json.loads('{\"S\":40, \"M\":50, \"L\":60}')"
   ]
  },
  {
   "cell_type": "code",
   "execution_count": 6,
   "id": "global-stable",
   "metadata": {},
   "outputs": [
    {
     "data": {
      "text/html": [
       "<div>\n",
       "<style scoped>\n",
       "    .dataframe tbody tr th:only-of-type {\n",
       "        vertical-align: middle;\n",
       "    }\n",
       "\n",
       "    .dataframe tbody tr th {\n",
       "        vertical-align: top;\n",
       "    }\n",
       "\n",
       "    .dataframe thead th {\n",
       "        text-align: right;\n",
       "    }\n",
       "</style>\n",
       "<table border=\"1\" class=\"dataframe\">\n",
       "  <thead>\n",
       "    <tr style=\"text-align: right;\">\n",
       "      <th></th>\n",
       "      <th>menu</th>\n",
       "      <th>price</th>\n",
       "      <th>price2</th>\n",
       "      <th>orders</th>\n",
       "      <th>orders2</th>\n",
       "      <th>serve</th>\n",
       "      <th>serve2</th>\n",
       "      <th>price_j</th>\n",
       "    </tr>\n",
       "  </thead>\n",
       "  <tbody>\n",
       "    <tr>\n",
       "      <th>0</th>\n",
       "      <td>mocha</td>\n",
       "      <td>{\"S\":40, \"M\":50, \"L\":60}</td>\n",
       "      <td>{'S':40, 'M':50, 'L':60}</td>\n",
       "      <td>70,10,100</td>\n",
       "      <td>[70,10,100]</td>\n",
       "      <td>hot,cold,frappe</td>\n",
       "      <td>['hot', 'cold', 'frappe']</td>\n",
       "      <td>{'S': 40, 'M': 50, 'L': 60}</td>\n",
       "    </tr>\n",
       "    <tr>\n",
       "      <th>1</th>\n",
       "      <td>latte</td>\n",
       "      <td>{\"S\":45, \"M\":60, \"L\":70}</td>\n",
       "      <td>{'S':45, 'M':60, 'L':70}</td>\n",
       "      <td>40,20,80</td>\n",
       "      <td>[40,20,80]</td>\n",
       "      <td>hot,cold</td>\n",
       "      <td>['hot', 'cold']</td>\n",
       "      <td>{'S': 45, 'M': 60, 'L': 70}</td>\n",
       "    </tr>\n",
       "    <tr>\n",
       "      <th>2</th>\n",
       "      <td>espresso</td>\n",
       "      <td>{\"S\":39, \"M\":49, \"L\":59}</td>\n",
       "      <td>{'S':39, 'M':49, 'L':59}</td>\n",
       "      <td>120,5,50</td>\n",
       "      <td>[120,5,50]</td>\n",
       "      <td>hot</td>\n",
       "      <td>['hot']</td>\n",
       "      <td>{'S': 39, 'M': 49, 'L': 59}</td>\n",
       "    </tr>\n",
       "  </tbody>\n",
       "</table>\n",
       "</div>"
      ],
      "text/plain": [
       "       menu                     price                    price2     orders  \\\n",
       "0     mocha  {\"S\":40, \"M\":50, \"L\":60}  {'S':40, 'M':50, 'L':60}  70,10,100   \n",
       "1     latte  {\"S\":45, \"M\":60, \"L\":70}  {'S':45, 'M':60, 'L':70}   40,20,80   \n",
       "2  espresso  {\"S\":39, \"M\":49, \"L\":59}  {'S':39, 'M':49, 'L':59}   120,5,50   \n",
       "\n",
       "       orders2            serve                     serve2  \\\n",
       "0  [70,10,100]  hot,cold,frappe  ['hot', 'cold', 'frappe']   \n",
       "1   [40,20,80]         hot,cold            ['hot', 'cold']   \n",
       "2   [120,5,50]              hot                    ['hot']   \n",
       "\n",
       "                       price_j  \n",
       "0  {'S': 40, 'M': 50, 'L': 60}  \n",
       "1  {'S': 45, 'M': 60, 'L': 70}  \n",
       "2  {'S': 39, 'M': 49, 'L': 59}  "
      ]
     },
     "execution_count": 6,
     "metadata": {},
     "output_type": "execute_result"
    }
   ],
   "source": [
    "df['price_j']=df['price'].apply(lambda s: json.loads(s))\n",
    "df"
   ]
  },
  {
   "cell_type": "markdown",
   "id": "commercial-participant",
   "metadata": {},
   "source": [
    "## ast.literal_eval"
   ]
  },
  {
   "cell_type": "code",
   "execution_count": 7,
   "id": "charged-breathing",
   "metadata": {},
   "outputs": [
    {
     "data": {
      "text/plain": [
       "{'S': 40, 'M': 50, 'L': 60}"
      ]
     },
     "execution_count": 7,
     "metadata": {},
     "output_type": "execute_result"
    }
   ],
   "source": [
    "# credit: https://stackoverflow.com/questions/4162642/single-vs-double-quotes-in-json\n",
    "ast.literal_eval('{\"S\":40, \"M\":50, \"L\":60}')"
   ]
  },
  {
   "cell_type": "code",
   "execution_count": 8,
   "id": "major-association",
   "metadata": {},
   "outputs": [
    {
     "data": {
      "text/plain": [
       "{'S': 40, 'M': 50, 'L': 60}"
      ]
     },
     "execution_count": 8,
     "metadata": {},
     "output_type": "execute_result"
    }
   ],
   "source": [
    "ast.literal_eval(\"{'S':40, 'M':50, 'L':60}\")"
   ]
  },
  {
   "cell_type": "code",
   "execution_count": 9,
   "id": "registered-tulsa",
   "metadata": {},
   "outputs": [
    {
     "data": {
      "text/plain": [
       "\"{'S':40, 'M':50, 'L':60}\""
      ]
     },
     "execution_count": 9,
     "metadata": {},
     "output_type": "execute_result"
    }
   ],
   "source": [
    "df['price2'][0]"
   ]
  },
  {
   "cell_type": "code",
   "execution_count": 10,
   "id": "postal-saturday",
   "metadata": {},
   "outputs": [
    {
     "name": "stdout",
     "output_type": "stream",
     "text": [
      "<class 'dict'>\n",
      "{'S': 40, 'M': 50, 'L': 60}\n"
     ]
    }
   ],
   "source": [
    "j=ast.literal_eval(df['price'][0])\n",
    "print(type(j))\n",
    "print(j)"
   ]
  },
  {
   "cell_type": "code",
   "execution_count": 11,
   "id": "noted-radio",
   "metadata": {},
   "outputs": [
    {
     "data": {
      "text/html": [
       "<div>\n",
       "<style scoped>\n",
       "    .dataframe tbody tr th:only-of-type {\n",
       "        vertical-align: middle;\n",
       "    }\n",
       "\n",
       "    .dataframe tbody tr th {\n",
       "        vertical-align: top;\n",
       "    }\n",
       "\n",
       "    .dataframe thead th {\n",
       "        text-align: right;\n",
       "    }\n",
       "</style>\n",
       "<table border=\"1\" class=\"dataframe\">\n",
       "  <thead>\n",
       "    <tr style=\"text-align: right;\">\n",
       "      <th></th>\n",
       "      <th>menu</th>\n",
       "      <th>price</th>\n",
       "      <th>price2</th>\n",
       "      <th>orders</th>\n",
       "      <th>orders2</th>\n",
       "      <th>serve</th>\n",
       "      <th>serve2</th>\n",
       "      <th>price_j</th>\n",
       "    </tr>\n",
       "  </thead>\n",
       "  <tbody>\n",
       "    <tr>\n",
       "      <th>0</th>\n",
       "      <td>mocha</td>\n",
       "      <td>{\"S\":40, \"M\":50, \"L\":60}</td>\n",
       "      <td>{'S':40, 'M':50, 'L':60}</td>\n",
       "      <td>70,10,100</td>\n",
       "      <td>[70,10,100]</td>\n",
       "      <td>hot,cold,frappe</td>\n",
       "      <td>['hot', 'cold', 'frappe']</td>\n",
       "      <td>{'S': 40, 'M': 50, 'L': 60}</td>\n",
       "    </tr>\n",
       "    <tr>\n",
       "      <th>1</th>\n",
       "      <td>latte</td>\n",
       "      <td>{\"S\":45, \"M\":60, \"L\":70}</td>\n",
       "      <td>{'S':45, 'M':60, 'L':70}</td>\n",
       "      <td>40,20,80</td>\n",
       "      <td>[40,20,80]</td>\n",
       "      <td>hot,cold</td>\n",
       "      <td>['hot', 'cold']</td>\n",
       "      <td>{'S': 45, 'M': 60, 'L': 70}</td>\n",
       "    </tr>\n",
       "    <tr>\n",
       "      <th>2</th>\n",
       "      <td>espresso</td>\n",
       "      <td>{\"S\":39, \"M\":49, \"L\":59}</td>\n",
       "      <td>{'S':39, 'M':49, 'L':59}</td>\n",
       "      <td>120,5,50</td>\n",
       "      <td>[120,5,50]</td>\n",
       "      <td>hot</td>\n",
       "      <td>['hot']</td>\n",
       "      <td>{'S': 39, 'M': 49, 'L': 59}</td>\n",
       "    </tr>\n",
       "  </tbody>\n",
       "</table>\n",
       "</div>"
      ],
      "text/plain": [
       "       menu                     price                    price2     orders  \\\n",
       "0     mocha  {\"S\":40, \"M\":50, \"L\":60}  {'S':40, 'M':50, 'L':60}  70,10,100   \n",
       "1     latte  {\"S\":45, \"M\":60, \"L\":70}  {'S':45, 'M':60, 'L':70}   40,20,80   \n",
       "2  espresso  {\"S\":39, \"M\":49, \"L\":59}  {'S':39, 'M':49, 'L':59}   120,5,50   \n",
       "\n",
       "       orders2            serve                     serve2  \\\n",
       "0  [70,10,100]  hot,cold,frappe  ['hot', 'cold', 'frappe']   \n",
       "1   [40,20,80]         hot,cold            ['hot', 'cold']   \n",
       "2   [120,5,50]              hot                    ['hot']   \n",
       "\n",
       "                       price_j  \n",
       "0  {'S': 40, 'M': 50, 'L': 60}  \n",
       "1  {'S': 45, 'M': 60, 'L': 70}  \n",
       "2  {'S': 39, 'M': 49, 'L': 59}  "
      ]
     },
     "execution_count": 11,
     "metadata": {},
     "output_type": "execute_result"
    }
   ],
   "source": [
    "df['price_j']=df['price2'].map(ast.literal_eval)\n",
    "df"
   ]
  },
  {
   "cell_type": "code",
   "execution_count": 12,
   "id": "smoking-ensemble",
   "metadata": {},
   "outputs": [
    {
     "data": {
      "text/plain": [
       "dict"
      ]
     },
     "execution_count": 12,
     "metadata": {},
     "output_type": "execute_result"
    }
   ],
   "source": [
    "type(df['price_j'][0])"
   ]
  },
  {
   "cell_type": "markdown",
   "id": "controlled-husband",
   "metadata": {},
   "source": [
    "## list"
   ]
  },
  {
   "cell_type": "code",
   "execution_count": 13,
   "id": "micro-memorial",
   "metadata": {},
   "outputs": [
    {
     "data": {
      "text/plain": [
       "0    [70, 10, 100]\n",
       "1     [40, 20, 80]\n",
       "2     [120, 5, 50]\n",
       "Name: orders, dtype: object"
      ]
     },
     "execution_count": 13,
     "metadata": {},
     "output_type": "execute_result"
    }
   ],
   "source": [
    "df['orders'].str.split(',')"
   ]
  },
  {
   "cell_type": "code",
   "execution_count": 14,
   "id": "solid-venture",
   "metadata": {},
   "outputs": [
    {
     "data": {
      "text/plain": [
       "str"
      ]
     },
     "execution_count": 14,
     "metadata": {},
     "output_type": "execute_result"
    }
   ],
   "source": [
    "type(df['orders'][0])"
   ]
  },
  {
   "cell_type": "code",
   "execution_count": 15,
   "id": "removable-swedish",
   "metadata": {},
   "outputs": [
    {
     "data": {
      "text/html": [
       "<div>\n",
       "<style scoped>\n",
       "    .dataframe tbody tr th:only-of-type {\n",
       "        vertical-align: middle;\n",
       "    }\n",
       "\n",
       "    .dataframe tbody tr th {\n",
       "        vertical-align: top;\n",
       "    }\n",
       "\n",
       "    .dataframe thead th {\n",
       "        text-align: right;\n",
       "    }\n",
       "</style>\n",
       "<table border=\"1\" class=\"dataframe\">\n",
       "  <thead>\n",
       "    <tr style=\"text-align: right;\">\n",
       "      <th></th>\n",
       "      <th>menu</th>\n",
       "      <th>price</th>\n",
       "      <th>price2</th>\n",
       "      <th>orders</th>\n",
       "      <th>orders2</th>\n",
       "      <th>serve</th>\n",
       "      <th>serve2</th>\n",
       "      <th>price_j</th>\n",
       "      <th>x</th>\n",
       "    </tr>\n",
       "  </thead>\n",
       "  <tbody>\n",
       "    <tr>\n",
       "      <th>0</th>\n",
       "      <td>mocha</td>\n",
       "      <td>{\"S\":40, \"M\":50, \"L\":60}</td>\n",
       "      <td>{'S':40, 'M':50, 'L':60}</td>\n",
       "      <td>70,10,100</td>\n",
       "      <td>[70,10,100]</td>\n",
       "      <td>hot,cold,frappe</td>\n",
       "      <td>['hot', 'cold', 'frappe']</td>\n",
       "      <td>{'S': 40, 'M': 50, 'L': 60}</td>\n",
       "      <td>[70, 10, 100]</td>\n",
       "    </tr>\n",
       "    <tr>\n",
       "      <th>1</th>\n",
       "      <td>latte</td>\n",
       "      <td>{\"S\":45, \"M\":60, \"L\":70}</td>\n",
       "      <td>{'S':45, 'M':60, 'L':70}</td>\n",
       "      <td>40,20,80</td>\n",
       "      <td>[40,20,80]</td>\n",
       "      <td>hot,cold</td>\n",
       "      <td>['hot', 'cold']</td>\n",
       "      <td>{'S': 45, 'M': 60, 'L': 70}</td>\n",
       "      <td>[40, 20, 80]</td>\n",
       "    </tr>\n",
       "    <tr>\n",
       "      <th>2</th>\n",
       "      <td>espresso</td>\n",
       "      <td>{\"S\":39, \"M\":49, \"L\":59}</td>\n",
       "      <td>{'S':39, 'M':49, 'L':59}</td>\n",
       "      <td>120,5,50</td>\n",
       "      <td>[120,5,50]</td>\n",
       "      <td>hot</td>\n",
       "      <td>['hot']</td>\n",
       "      <td>{'S': 39, 'M': 49, 'L': 59}</td>\n",
       "      <td>[120, 5, 50]</td>\n",
       "    </tr>\n",
       "  </tbody>\n",
       "</table>\n",
       "</div>"
      ],
      "text/plain": [
       "       menu                     price                    price2     orders  \\\n",
       "0     mocha  {\"S\":40, \"M\":50, \"L\":60}  {'S':40, 'M':50, 'L':60}  70,10,100   \n",
       "1     latte  {\"S\":45, \"M\":60, \"L\":70}  {'S':45, 'M':60, 'L':70}   40,20,80   \n",
       "2  espresso  {\"S\":39, \"M\":49, \"L\":59}  {'S':39, 'M':49, 'L':59}   120,5,50   \n",
       "\n",
       "       orders2            serve                     serve2  \\\n",
       "0  [70,10,100]  hot,cold,frappe  ['hot', 'cold', 'frappe']   \n",
       "1   [40,20,80]         hot,cold            ['hot', 'cold']   \n",
       "2   [120,5,50]              hot                    ['hot']   \n",
       "\n",
       "                       price_j              x  \n",
       "0  {'S': 40, 'M': 50, 'L': 60}  [70, 10, 100]  \n",
       "1  {'S': 45, 'M': 60, 'L': 70}   [40, 20, 80]  \n",
       "2  {'S': 39, 'M': 49, 'L': 59}   [120, 5, 50]  "
      ]
     },
     "execution_count": 15,
     "metadata": {},
     "output_type": "execute_result"
    }
   ],
   "source": [
    "df['x']=pd.eval(df['orders'].str.split(','))\n",
    "df"
   ]
  },
  {
   "cell_type": "code",
   "execution_count": 16,
   "id": "atlantic-quick",
   "metadata": {},
   "outputs": [
    {
     "data": {
      "text/plain": [
       "180"
      ]
     },
     "execution_count": 16,
     "metadata": {},
     "output_type": "execute_result"
    }
   ],
   "source": [
    "sum(df['x'][0])"
   ]
  },
  {
   "cell_type": "code",
   "execution_count": 17,
   "id": "simple-termination",
   "metadata": {},
   "outputs": [
    {
     "data": {
      "text/plain": [
       "0    [70, 10, 100]\n",
       "1     [40, 20, 80]\n",
       "2     [120, 5, 50]\n",
       "Name: c1, dtype: object"
      ]
     },
     "execution_count": 17,
     "metadata": {},
     "output_type": "execute_result"
    }
   ],
   "source": [
    "df['c1']=df['orders'].str.split(',').apply(lambda v: list(map(int, v)))\n",
    "df['c1']"
   ]
  },
  {
   "cell_type": "code",
   "execution_count": 18,
   "id": "environmental-department",
   "metadata": {},
   "outputs": [
    {
     "data": {
      "text/plain": [
       "[70, 10, 100]"
      ]
     },
     "execution_count": 18,
     "metadata": {},
     "output_type": "execute_result"
    }
   ],
   "source": [
    "df['c1'][0]"
   ]
  },
  {
   "cell_type": "code",
   "execution_count": 19,
   "id": "continent-stationery",
   "metadata": {},
   "outputs": [
    {
     "data": {
      "text/html": [
       "<div>\n",
       "<style scoped>\n",
       "    .dataframe tbody tr th:only-of-type {\n",
       "        vertical-align: middle;\n",
       "    }\n",
       "\n",
       "    .dataframe tbody tr th {\n",
       "        vertical-align: top;\n",
       "    }\n",
       "\n",
       "    .dataframe thead th {\n",
       "        text-align: right;\n",
       "    }\n",
       "</style>\n",
       "<table border=\"1\" class=\"dataframe\">\n",
       "  <thead>\n",
       "    <tr style=\"text-align: right;\">\n",
       "      <th></th>\n",
       "      <th>menu</th>\n",
       "      <th>price</th>\n",
       "      <th>price2</th>\n",
       "      <th>orders</th>\n",
       "      <th>orders2</th>\n",
       "      <th>serve</th>\n",
       "      <th>serve2</th>\n",
       "      <th>price_j</th>\n",
       "      <th>x</th>\n",
       "      <th>c1</th>\n",
       "      <th>c2</th>\n",
       "    </tr>\n",
       "  </thead>\n",
       "  <tbody>\n",
       "    <tr>\n",
       "      <th>0</th>\n",
       "      <td>mocha</td>\n",
       "      <td>{\"S\":40, \"M\":50, \"L\":60}</td>\n",
       "      <td>{'S':40, 'M':50, 'L':60}</td>\n",
       "      <td>70,10,100</td>\n",
       "      <td>[70,10,100]</td>\n",
       "      <td>hot,cold,frappe</td>\n",
       "      <td>['hot', 'cold', 'frappe']</td>\n",
       "      <td>{'S': 40, 'M': 50, 'L': 60}</td>\n",
       "      <td>[70, 10, 100]</td>\n",
       "      <td>[70, 10, 100]</td>\n",
       "      <td>[70, 10, 100]</td>\n",
       "    </tr>\n",
       "    <tr>\n",
       "      <th>1</th>\n",
       "      <td>latte</td>\n",
       "      <td>{\"S\":45, \"M\":60, \"L\":70}</td>\n",
       "      <td>{'S':45, 'M':60, 'L':70}</td>\n",
       "      <td>40,20,80</td>\n",
       "      <td>[40,20,80]</td>\n",
       "      <td>hot,cold</td>\n",
       "      <td>['hot', 'cold']</td>\n",
       "      <td>{'S': 45, 'M': 60, 'L': 70}</td>\n",
       "      <td>[40, 20, 80]</td>\n",
       "      <td>[40, 20, 80]</td>\n",
       "      <td>[40, 20, 80]</td>\n",
       "    </tr>\n",
       "    <tr>\n",
       "      <th>2</th>\n",
       "      <td>espresso</td>\n",
       "      <td>{\"S\":39, \"M\":49, \"L\":59}</td>\n",
       "      <td>{'S':39, 'M':49, 'L':59}</td>\n",
       "      <td>120,5,50</td>\n",
       "      <td>[120,5,50]</td>\n",
       "      <td>hot</td>\n",
       "      <td>['hot']</td>\n",
       "      <td>{'S': 39, 'M': 49, 'L': 59}</td>\n",
       "      <td>[120, 5, 50]</td>\n",
       "      <td>[120, 5, 50]</td>\n",
       "      <td>[120, 5, 50]</td>\n",
       "    </tr>\n",
       "  </tbody>\n",
       "</table>\n",
       "</div>"
      ],
      "text/plain": [
       "       menu                     price                    price2     orders  \\\n",
       "0     mocha  {\"S\":40, \"M\":50, \"L\":60}  {'S':40, 'M':50, 'L':60}  70,10,100   \n",
       "1     latte  {\"S\":45, \"M\":60, \"L\":70}  {'S':45, 'M':60, 'L':70}   40,20,80   \n",
       "2  espresso  {\"S\":39, \"M\":49, \"L\":59}  {'S':39, 'M':49, 'L':59}   120,5,50   \n",
       "\n",
       "       orders2            serve                     serve2  \\\n",
       "0  [70,10,100]  hot,cold,frappe  ['hot', 'cold', 'frappe']   \n",
       "1   [40,20,80]         hot,cold            ['hot', 'cold']   \n",
       "2   [120,5,50]              hot                    ['hot']   \n",
       "\n",
       "                       price_j              x             c1             c2  \n",
       "0  {'S': 40, 'M': 50, 'L': 60}  [70, 10, 100]  [70, 10, 100]  [70, 10, 100]  \n",
       "1  {'S': 45, 'M': 60, 'L': 70}   [40, 20, 80]   [40, 20, 80]   [40, 20, 80]  \n",
       "2  {'S': 39, 'M': 49, 'L': 59}   [120, 5, 50]   [120, 5, 50]   [120, 5, 50]  "
      ]
     },
     "execution_count": 19,
     "metadata": {},
     "output_type": "execute_result"
    }
   ],
   "source": [
    "df['c2']=pd.eval(df['orders2'])\n",
    "df"
   ]
  },
  {
   "cell_type": "code",
   "execution_count": 20,
   "id": "supported-tackle",
   "metadata": {},
   "outputs": [
    {
     "data": {
      "text/plain": [
       "[70, 10, 100]"
      ]
     },
     "execution_count": 20,
     "metadata": {},
     "output_type": "execute_result"
    }
   ],
   "source": [
    "df['c2'][0]"
   ]
  },
  {
   "cell_type": "code",
   "execution_count": 21,
   "id": "democratic-dynamics",
   "metadata": {},
   "outputs": [
    {
     "data": {
      "text/html": [
       "<div>\n",
       "<style scoped>\n",
       "    .dataframe tbody tr th:only-of-type {\n",
       "        vertical-align: middle;\n",
       "    }\n",
       "\n",
       "    .dataframe tbody tr th {\n",
       "        vertical-align: top;\n",
       "    }\n",
       "\n",
       "    .dataframe thead th {\n",
       "        text-align: right;\n",
       "    }\n",
       "</style>\n",
       "<table border=\"1\" class=\"dataframe\">\n",
       "  <thead>\n",
       "    <tr style=\"text-align: right;\">\n",
       "      <th></th>\n",
       "      <th>menu</th>\n",
       "      <th>price</th>\n",
       "      <th>price2</th>\n",
       "      <th>orders</th>\n",
       "      <th>orders2</th>\n",
       "      <th>serve</th>\n",
       "      <th>serve2</th>\n",
       "      <th>price_j</th>\n",
       "      <th>x</th>\n",
       "      <th>c1</th>\n",
       "      <th>c2</th>\n",
       "      <th>d1</th>\n",
       "    </tr>\n",
       "  </thead>\n",
       "  <tbody>\n",
       "    <tr>\n",
       "      <th>0</th>\n",
       "      <td>mocha</td>\n",
       "      <td>{\"S\":40, \"M\":50, \"L\":60}</td>\n",
       "      <td>{'S':40, 'M':50, 'L':60}</td>\n",
       "      <td>70,10,100</td>\n",
       "      <td>[70,10,100]</td>\n",
       "      <td>hot,cold,frappe</td>\n",
       "      <td>['hot', 'cold', 'frappe']</td>\n",
       "      <td>{'S': 40, 'M': 50, 'L': 60}</td>\n",
       "      <td>[70, 10, 100]</td>\n",
       "      <td>[70, 10, 100]</td>\n",
       "      <td>[70, 10, 100]</td>\n",
       "      <td>[hot, cold, frappe]</td>\n",
       "    </tr>\n",
       "    <tr>\n",
       "      <th>1</th>\n",
       "      <td>latte</td>\n",
       "      <td>{\"S\":45, \"M\":60, \"L\":70}</td>\n",
       "      <td>{'S':45, 'M':60, 'L':70}</td>\n",
       "      <td>40,20,80</td>\n",
       "      <td>[40,20,80]</td>\n",
       "      <td>hot,cold</td>\n",
       "      <td>['hot', 'cold']</td>\n",
       "      <td>{'S': 45, 'M': 60, 'L': 70}</td>\n",
       "      <td>[40, 20, 80]</td>\n",
       "      <td>[40, 20, 80]</td>\n",
       "      <td>[40, 20, 80]</td>\n",
       "      <td>[hot, cold]</td>\n",
       "    </tr>\n",
       "    <tr>\n",
       "      <th>2</th>\n",
       "      <td>espresso</td>\n",
       "      <td>{\"S\":39, \"M\":49, \"L\":59}</td>\n",
       "      <td>{'S':39, 'M':49, 'L':59}</td>\n",
       "      <td>120,5,50</td>\n",
       "      <td>[120,5,50]</td>\n",
       "      <td>hot</td>\n",
       "      <td>['hot']</td>\n",
       "      <td>{'S': 39, 'M': 49, 'L': 59}</td>\n",
       "      <td>[120, 5, 50]</td>\n",
       "      <td>[120, 5, 50]</td>\n",
       "      <td>[120, 5, 50]</td>\n",
       "      <td>[hot]</td>\n",
       "    </tr>\n",
       "  </tbody>\n",
       "</table>\n",
       "</div>"
      ],
      "text/plain": [
       "       menu                     price                    price2     orders  \\\n",
       "0     mocha  {\"S\":40, \"M\":50, \"L\":60}  {'S':40, 'M':50, 'L':60}  70,10,100   \n",
       "1     latte  {\"S\":45, \"M\":60, \"L\":70}  {'S':45, 'M':60, 'L':70}   40,20,80   \n",
       "2  espresso  {\"S\":39, \"M\":49, \"L\":59}  {'S':39, 'M':49, 'L':59}   120,5,50   \n",
       "\n",
       "       orders2            serve                     serve2  \\\n",
       "0  [70,10,100]  hot,cold,frappe  ['hot', 'cold', 'frappe']   \n",
       "1   [40,20,80]         hot,cold            ['hot', 'cold']   \n",
       "2   [120,5,50]              hot                    ['hot']   \n",
       "\n",
       "                       price_j              x             c1             c2  \\\n",
       "0  {'S': 40, 'M': 50, 'L': 60}  [70, 10, 100]  [70, 10, 100]  [70, 10, 100]   \n",
       "1  {'S': 45, 'M': 60, 'L': 70}   [40, 20, 80]   [40, 20, 80]   [40, 20, 80]   \n",
       "2  {'S': 39, 'M': 49, 'L': 59}   [120, 5, 50]   [120, 5, 50]   [120, 5, 50]   \n",
       "\n",
       "                    d1  \n",
       "0  [hot, cold, frappe]  \n",
       "1          [hot, cold]  \n",
       "2                [hot]  "
      ]
     },
     "execution_count": 21,
     "metadata": {},
     "output_type": "execute_result"
    }
   ],
   "source": [
    "df['d1']=df['serve'].str.split(',')\n",
    "df"
   ]
  },
  {
   "cell_type": "code",
   "execution_count": 22,
   "id": "exact-pasta",
   "metadata": {},
   "outputs": [
    {
     "data": {
      "text/html": [
       "<div>\n",
       "<style scoped>\n",
       "    .dataframe tbody tr th:only-of-type {\n",
       "        vertical-align: middle;\n",
       "    }\n",
       "\n",
       "    .dataframe tbody tr th {\n",
       "        vertical-align: top;\n",
       "    }\n",
       "\n",
       "    .dataframe thead th {\n",
       "        text-align: right;\n",
       "    }\n",
       "</style>\n",
       "<table border=\"1\" class=\"dataframe\">\n",
       "  <thead>\n",
       "    <tr style=\"text-align: right;\">\n",
       "      <th></th>\n",
       "      <th>menu</th>\n",
       "      <th>price</th>\n",
       "      <th>price2</th>\n",
       "      <th>orders</th>\n",
       "      <th>orders2</th>\n",
       "      <th>serve</th>\n",
       "      <th>serve2</th>\n",
       "      <th>price_j</th>\n",
       "      <th>x</th>\n",
       "      <th>c1</th>\n",
       "      <th>c2</th>\n",
       "      <th>d1</th>\n",
       "      <th>d2</th>\n",
       "    </tr>\n",
       "  </thead>\n",
       "  <tbody>\n",
       "    <tr>\n",
       "      <th>0</th>\n",
       "      <td>mocha</td>\n",
       "      <td>{\"S\":40, \"M\":50, \"L\":60}</td>\n",
       "      <td>{'S':40, 'M':50, 'L':60}</td>\n",
       "      <td>70,10,100</td>\n",
       "      <td>[70,10,100]</td>\n",
       "      <td>hot,cold,frappe</td>\n",
       "      <td>['hot', 'cold', 'frappe']</td>\n",
       "      <td>{'S': 40, 'M': 50, 'L': 60}</td>\n",
       "      <td>[70, 10, 100]</td>\n",
       "      <td>[70, 10, 100]</td>\n",
       "      <td>[70, 10, 100]</td>\n",
       "      <td>[hot, cold, frappe]</td>\n",
       "      <td>[hot, cold, frappe]</td>\n",
       "    </tr>\n",
       "    <tr>\n",
       "      <th>1</th>\n",
       "      <td>latte</td>\n",
       "      <td>{\"S\":45, \"M\":60, \"L\":70}</td>\n",
       "      <td>{'S':45, 'M':60, 'L':70}</td>\n",
       "      <td>40,20,80</td>\n",
       "      <td>[40,20,80]</td>\n",
       "      <td>hot,cold</td>\n",
       "      <td>['hot', 'cold']</td>\n",
       "      <td>{'S': 45, 'M': 60, 'L': 70}</td>\n",
       "      <td>[40, 20, 80]</td>\n",
       "      <td>[40, 20, 80]</td>\n",
       "      <td>[40, 20, 80]</td>\n",
       "      <td>[hot, cold]</td>\n",
       "      <td>[hot, cold]</td>\n",
       "    </tr>\n",
       "    <tr>\n",
       "      <th>2</th>\n",
       "      <td>espresso</td>\n",
       "      <td>{\"S\":39, \"M\":49, \"L\":59}</td>\n",
       "      <td>{'S':39, 'M':49, 'L':59}</td>\n",
       "      <td>120,5,50</td>\n",
       "      <td>[120,5,50]</td>\n",
       "      <td>hot</td>\n",
       "      <td>['hot']</td>\n",
       "      <td>{'S': 39, 'M': 49, 'L': 59}</td>\n",
       "      <td>[120, 5, 50]</td>\n",
       "      <td>[120, 5, 50]</td>\n",
       "      <td>[120, 5, 50]</td>\n",
       "      <td>[hot]</td>\n",
       "      <td>[hot]</td>\n",
       "    </tr>\n",
       "  </tbody>\n",
       "</table>\n",
       "</div>"
      ],
      "text/plain": [
       "       menu                     price                    price2     orders  \\\n",
       "0     mocha  {\"S\":40, \"M\":50, \"L\":60}  {'S':40, 'M':50, 'L':60}  70,10,100   \n",
       "1     latte  {\"S\":45, \"M\":60, \"L\":70}  {'S':45, 'M':60, 'L':70}   40,20,80   \n",
       "2  espresso  {\"S\":39, \"M\":49, \"L\":59}  {'S':39, 'M':49, 'L':59}   120,5,50   \n",
       "\n",
       "       orders2            serve                     serve2  \\\n",
       "0  [70,10,100]  hot,cold,frappe  ['hot', 'cold', 'frappe']   \n",
       "1   [40,20,80]         hot,cold            ['hot', 'cold']   \n",
       "2   [120,5,50]              hot                    ['hot']   \n",
       "\n",
       "                       price_j              x             c1             c2  \\\n",
       "0  {'S': 40, 'M': 50, 'L': 60}  [70, 10, 100]  [70, 10, 100]  [70, 10, 100]   \n",
       "1  {'S': 45, 'M': 60, 'L': 70}   [40, 20, 80]   [40, 20, 80]   [40, 20, 80]   \n",
       "2  {'S': 39, 'M': 49, 'L': 59}   [120, 5, 50]   [120, 5, 50]   [120, 5, 50]   \n",
       "\n",
       "                    d1                   d2  \n",
       "0  [hot, cold, frappe]  [hot, cold, frappe]  \n",
       "1          [hot, cold]          [hot, cold]  \n",
       "2                [hot]                [hot]  "
      ]
     },
     "execution_count": 22,
     "metadata": {},
     "output_type": "execute_result"
    }
   ],
   "source": [
    "df['d2']=pd.eval(df['serve2'])\n",
    "df"
   ]
  },
  {
   "cell_type": "code",
   "execution_count": 23,
   "id": "premium-actress",
   "metadata": {},
   "outputs": [
    {
     "data": {
      "text/html": [
       "<div>\n",
       "<style scoped>\n",
       "    .dataframe tbody tr th:only-of-type {\n",
       "        vertical-align: middle;\n",
       "    }\n",
       "\n",
       "    .dataframe tbody tr th {\n",
       "        vertical-align: top;\n",
       "    }\n",
       "\n",
       "    .dataframe thead th {\n",
       "        text-align: right;\n",
       "    }\n",
       "</style>\n",
       "<table border=\"1\" class=\"dataframe\">\n",
       "  <thead>\n",
       "    <tr style=\"text-align: right;\">\n",
       "      <th></th>\n",
       "      <th>menu</th>\n",
       "      <th>price</th>\n",
       "      <th>price2</th>\n",
       "      <th>orders</th>\n",
       "      <th>orders2</th>\n",
       "      <th>serve</th>\n",
       "      <th>serve2</th>\n",
       "      <th>price_j</th>\n",
       "      <th>x</th>\n",
       "      <th>c1</th>\n",
       "      <th>c2</th>\n",
       "      <th>d1</th>\n",
       "      <th>d2</th>\n",
       "    </tr>\n",
       "  </thead>\n",
       "  <tbody>\n",
       "    <tr>\n",
       "      <th>0</th>\n",
       "      <td>mocha</td>\n",
       "      <td>{\"S\":40, \"M\":50, \"L\":60}</td>\n",
       "      <td>{'S':40, 'M':50, 'L':60}</td>\n",
       "      <td>70,10,100</td>\n",
       "      <td>[70,10,100]</td>\n",
       "      <td>hot,cold,frappe</td>\n",
       "      <td>['hot', 'cold', 'frappe']</td>\n",
       "      <td>{'S': 40, 'M': 50, 'L': 60}</td>\n",
       "      <td>[70, 10, 100]</td>\n",
       "      <td>[70, 10, 100]</td>\n",
       "      <td>[70, 10, 100]</td>\n",
       "      <td>[hot, cold, frappe]</td>\n",
       "      <td>[hot, cold, frappe]</td>\n",
       "    </tr>\n",
       "    <tr>\n",
       "      <th>1</th>\n",
       "      <td>latte</td>\n",
       "      <td>{\"S\":45, \"M\":60, \"L\":70}</td>\n",
       "      <td>{'S':45, 'M':60, 'L':70}</td>\n",
       "      <td>40,20,80</td>\n",
       "      <td>[40,20,80]</td>\n",
       "      <td>hot,cold</td>\n",
       "      <td>['hot', 'cold']</td>\n",
       "      <td>{'S': 45, 'M': 60, 'L': 70}</td>\n",
       "      <td>[40, 20, 80]</td>\n",
       "      <td>[40, 20, 80]</td>\n",
       "      <td>[40, 20, 80]</td>\n",
       "      <td>[hot, cold]</td>\n",
       "      <td>[hot, cold]</td>\n",
       "    </tr>\n",
       "    <tr>\n",
       "      <th>2</th>\n",
       "      <td>espresso</td>\n",
       "      <td>{\"S\":39, \"M\":49, \"L\":59}</td>\n",
       "      <td>{'S':39, 'M':49, 'L':59}</td>\n",
       "      <td>120,5,50</td>\n",
       "      <td>[120,5,50]</td>\n",
       "      <td>hot</td>\n",
       "      <td>['hot']</td>\n",
       "      <td>{'S': 39, 'M': 49, 'L': 59}</td>\n",
       "      <td>[120, 5, 50]</td>\n",
       "      <td>[120, 5, 50]</td>\n",
       "      <td>[120, 5, 50]</td>\n",
       "      <td>[hot]</td>\n",
       "      <td>[hot]</td>\n",
       "    </tr>\n",
       "  </tbody>\n",
       "</table>\n",
       "</div>"
      ],
      "text/plain": [
       "       menu                     price                    price2     orders  \\\n",
       "0     mocha  {\"S\":40, \"M\":50, \"L\":60}  {'S':40, 'M':50, 'L':60}  70,10,100   \n",
       "1     latte  {\"S\":45, \"M\":60, \"L\":70}  {'S':45, 'M':60, 'L':70}   40,20,80   \n",
       "2  espresso  {\"S\":39, \"M\":49, \"L\":59}  {'S':39, 'M':49, 'L':59}   120,5,50   \n",
       "\n",
       "       orders2            serve                     serve2  \\\n",
       "0  [70,10,100]  hot,cold,frappe  ['hot', 'cold', 'frappe']   \n",
       "1   [40,20,80]         hot,cold            ['hot', 'cold']   \n",
       "2   [120,5,50]              hot                    ['hot']   \n",
       "\n",
       "                       price_j              x             c1             c2  \\\n",
       "0  {'S': 40, 'M': 50, 'L': 60}  [70, 10, 100]  [70, 10, 100]  [70, 10, 100]   \n",
       "1  {'S': 45, 'M': 60, 'L': 70}   [40, 20, 80]   [40, 20, 80]   [40, 20, 80]   \n",
       "2  {'S': 39, 'M': 49, 'L': 59}   [120, 5, 50]   [120, 5, 50]   [120, 5, 50]   \n",
       "\n",
       "                    d1                   d2  \n",
       "0  [hot, cold, frappe]  [hot, cold, frappe]  \n",
       "1          [hot, cold]          [hot, cold]  \n",
       "2                [hot]                [hot]  "
      ]
     },
     "execution_count": 23,
     "metadata": {},
     "output_type": "execute_result"
    }
   ],
   "source": [
    "df['d2']=df['serve2'].map(ast.literal_eval)\n",
    "df"
   ]
  },
  {
   "cell_type": "code",
   "execution_count": 24,
   "id": "severe-mexico",
   "metadata": {},
   "outputs": [
    {
     "data": {
      "text/plain": [
       "['hot', 'cold', 'frappe']"
      ]
     },
     "execution_count": 24,
     "metadata": {},
     "output_type": "execute_result"
    }
   ],
   "source": [
    "df['d2'][0]"
   ]
  },
  {
   "cell_type": "code",
   "execution_count": 25,
   "id": "brazilian-industry",
   "metadata": {},
   "outputs": [
    {
     "data": {
      "text/plain": [
       "'frappe'"
      ]
     },
     "execution_count": 25,
     "metadata": {},
     "output_type": "execute_result"
    }
   ],
   "source": [
    "df['d2'][0][2]"
   ]
  },
  {
   "cell_type": "code",
   "execution_count": null,
   "id": "eligible-symbol",
   "metadata": {},
   "outputs": [],
   "source": []
  }
 ],
 "metadata": {
  "kernelspec": {
   "display_name": "Python 3",
   "language": "python",
   "name": "python3"
  },
  "language_info": {
   "codemirror_mode": {
    "name": "ipython",
    "version": 3
   },
   "file_extension": ".py",
   "mimetype": "text/x-python",
   "name": "python",
   "nbconvert_exporter": "python",
   "pygments_lexer": "ipython3",
   "version": "3.7.9"
  },
  "widgets": {
   "application/vnd.jupyter.widget-state+json": {
    "state": {},
    "version_major": 2,
    "version_minor": 0
   }
  }
 },
 "nbformat": 4,
 "nbformat_minor": 5
}
