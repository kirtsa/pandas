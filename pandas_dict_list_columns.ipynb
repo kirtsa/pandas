{
 "cells": [
  {
   "cell_type": "markdown",
   "id": "inner-palestine",
   "metadata": {},
   "source": [
    "# handle dict and list columns"
   ]
  },
  {
   "cell_type": "markdown",
   "id": "modern-google",
   "metadata": {},
   "source": [
    "---\n",
    "* author:  [Prasert Kanawattanachai](prasert.k@chula.ac.th)\n",
    "* YouTube: https://www.youtube.com/prasertcbs\n",
    "* github: https://github.com/prasertcbs/pandas/blob/main/pandas_dict_list_columns.ipynb\n",
    "* [Chulalongkorn Business School](https://www.cbs.chula.ac.th/en/)\n",
    "---"
   ]
  },
  {
   "cell_type": "code",
   "execution_count": 1,
   "id": "proof-tanzania",
   "metadata": {},
   "outputs": [],
   "source": [
    "import sys\n",
    "import json\n",
    "import ast # handle single/double quote in dict/json string\n",
    "import pandas as pd"
   ]
  },
  {
   "cell_type": "code",
   "execution_count": 2,
   "id": "dynamic-trainer",
   "metadata": {},
   "outputs": [
    {
     "name": "stdout",
     "output_type": "stream",
     "text": [
      "Python  version: 3.7.9 (default, Aug 31 2020, 17:10:11) [MSC v.1916 64 bit (AMD64)]\n",
      "pandas version: 1.2.1\n",
      "2021-02-21 11:59:01.565452\n"
     ]
    }
   ],
   "source": [
    "print(f'Python  version: {sys.version}')\n",
    "print(f'pandas version: {pd.__version__}')\n",
    "print(pd.Timestamp.now())"
   ]
  },
  {
   "cell_type": "code",
   "execution_count": 3,
   "id": "proved-stroke",
   "metadata": {},
   "outputs": [
    {
     "data": {
      "text/html": [
       "<div>\n",
       "<style scoped>\n",
       "    .dataframe tbody tr th:only-of-type {\n",
       "        vertical-align: middle;\n",
       "    }\n",
       "\n",
       "    .dataframe tbody tr th {\n",
       "        vertical-align: top;\n",
       "    }\n",
       "\n",
       "    .dataframe thead th {\n",
       "        text-align: right;\n",
       "    }\n",
       "</style>\n",
       "<table border=\"1\" class=\"dataframe\">\n",
       "  <thead>\n",
       "    <tr style=\"text-align: right;\">\n",
       "      <th></th>\n",
       "      <th>menu</th>\n",
       "      <th>price</th>\n",
       "      <th>price2</th>\n",
       "      <th>orders</th>\n",
       "      <th>orders2</th>\n",
       "      <th>serve</th>\n",
       "      <th>serve2</th>\n",
       "    </tr>\n",
       "  </thead>\n",
       "  <tbody>\n",
       "    <tr>\n",
       "      <th>0</th>\n",
       "      <td>mocha</td>\n",
       "      <td>{\"S\":40, \"M\":50, \"L\":60}</td>\n",
       "      <td>{'S':40, 'M':50, 'L':60}</td>\n",
       "      <td>70,10,100</td>\n",
       "      <td>[70,10,100]</td>\n",
       "      <td>hot,cold,frappe</td>\n",
       "      <td>['hot', 'cold', 'frappe']</td>\n",
       "    </tr>\n",
       "    <tr>\n",
       "      <th>1</th>\n",
       "      <td>latte</td>\n",
       "      <td>{\"S\":45, \"M\":60, \"L\":70}</td>\n",
       "      <td>{'S':45, 'M':60, 'L':70}</td>\n",
       "      <td>40,20,80</td>\n",
       "      <td>[40,20,80]</td>\n",
       "      <td>hot,cold</td>\n",
       "      <td>['hot', 'cold']</td>\n",
       "    </tr>\n",
       "    <tr>\n",
       "      <th>2</th>\n",
       "      <td>espresso</td>\n",
       "      <td>{\"S\":39, \"M\":49, \"L\":59}</td>\n",
       "      <td>{'S':39, 'M':49, 'L':59}</td>\n",
       "      <td>120,5,50</td>\n",
       "      <td>[120,5,50]</td>\n",
       "      <td>hot</td>\n",
       "      <td>['hot']</td>\n",
       "    </tr>\n",
       "  </tbody>\n",
       "</table>\n",
       "</div>"
      ],
      "text/plain": [
       "       menu                     price                    price2     orders  \\\n",
       "0     mocha  {\"S\":40, \"M\":50, \"L\":60}  {'S':40, 'M':50, 'L':60}  70,10,100   \n",
       "1     latte  {\"S\":45, \"M\":60, \"L\":70}  {'S':45, 'M':60, 'L':70}   40,20,80   \n",
       "2  espresso  {\"S\":39, \"M\":49, \"L\":59}  {'S':39, 'M':49, 'L':59}   120,5,50   \n",
       "\n",
       "       orders2            serve                     serve2  \n",
       "0  [70,10,100]  hot,cold,frappe  ['hot', 'cold', 'frappe']  \n",
       "1   [40,20,80]         hot,cold            ['hot', 'cold']  \n",
       "2   [120,5,50]              hot                    ['hot']  "
      ]
     },
     "execution_count": 3,
     "metadata": {},
     "output_type": "execute_result"
    }
   ],
   "source": [
    "df=pd.read_csv('https://github.com/prasertcbs/basic-dataset/raw/master/dict_list_column.tsv', sep='\\t')\n",
    "df"
   ]
  },
  {
   "cell_type": "code",
   "execution_count": 4,
   "id": "productive-geneva",
   "metadata": {},
   "outputs": [
    {
     "data": {
      "text/plain": [
       "str"
      ]
     },
     "execution_count": 4,
     "metadata": {},
     "output_type": "execute_result"
    }
   ],
   "source": [
    "type(df['price'][0])"
   ]
  },
  {
   "cell_type": "code",
   "execution_count": 5,
   "id": "valued-musical",
   "metadata": {},
   "outputs": [
    {
     "name": "stdout",
     "output_type": "stream",
     "text": [
      "menu      : <class 'str'> mocha\n",
      "price     : <class 'str'> {\"S\":40, \"M\":50, \"L\":60}\n",
      "price2    : <class 'str'> {'S':40, 'M':50, 'L':60}\n",
      "orders    : <class 'str'> 70,10,100\n",
      "orders2   : <class 'str'> [70,10,100]\n",
      "serve     : <class 'str'> hot,cold,frappe\n",
      "serve2    : <class 'str'> ['hot', 'cold', 'frappe']\n"
     ]
    }
   ],
   "source": [
    "for c in df.columns:\n",
    "    print(f'{c:10}: {type(df[c][0])} {df[c][0]}')"
   ]
  },
  {
   "cell_type": "markdown",
   "id": "arctic-syracuse",
   "metadata": {},
   "source": [
    "## json.loads"
   ]
  },
  {
   "cell_type": "code",
   "execution_count": 6,
   "id": "municipal-arena",
   "metadata": {},
   "outputs": [
    {
     "name": "stdout",
     "output_type": "stream",
     "text": [
      "<class 'dict'>\n",
      "{'S': 40, 'M': 50, 'L': 60}\n"
     ]
    }
   ],
   "source": [
    "j=json.loads('{\"S\":40, \"M\":50, \"L\":60}')\n",
    "print(type(j))\n",
    "print(j)"
   ]
  },
  {
   "cell_type": "code",
   "execution_count": 7,
   "id": "acquired-reporter",
   "metadata": {},
   "outputs": [
    {
     "data": {
      "text/plain": [
       "50"
      ]
     },
     "execution_count": 7,
     "metadata": {},
     "output_type": "execute_result"
    }
   ],
   "source": [
    "j['M']"
   ]
  },
  {
   "cell_type": "code",
   "execution_count": 8,
   "id": "understanding-unknown",
   "metadata": {},
   "outputs": [
    {
     "data": {
      "text/html": [
       "<div>\n",
       "<style scoped>\n",
       "    .dataframe tbody tr th:only-of-type {\n",
       "        vertical-align: middle;\n",
       "    }\n",
       "\n",
       "    .dataframe tbody tr th {\n",
       "        vertical-align: top;\n",
       "    }\n",
       "\n",
       "    .dataframe thead th {\n",
       "        text-align: right;\n",
       "    }\n",
       "</style>\n",
       "<table border=\"1\" class=\"dataframe\">\n",
       "  <thead>\n",
       "    <tr style=\"text-align: right;\">\n",
       "      <th></th>\n",
       "      <th>menu</th>\n",
       "      <th>price</th>\n",
       "      <th>price2</th>\n",
       "      <th>orders</th>\n",
       "      <th>orders2</th>\n",
       "      <th>serve</th>\n",
       "      <th>serve2</th>\n",
       "      <th>price_j</th>\n",
       "    </tr>\n",
       "  </thead>\n",
       "  <tbody>\n",
       "    <tr>\n",
       "      <th>0</th>\n",
       "      <td>mocha</td>\n",
       "      <td>{\"S\":40, \"M\":50, \"L\":60}</td>\n",
       "      <td>{'S':40, 'M':50, 'L':60}</td>\n",
       "      <td>70,10,100</td>\n",
       "      <td>[70,10,100]</td>\n",
       "      <td>hot,cold,frappe</td>\n",
       "      <td>['hot', 'cold', 'frappe']</td>\n",
       "      <td>{'S': 40, 'M': 50, 'L': 60}</td>\n",
       "    </tr>\n",
       "    <tr>\n",
       "      <th>1</th>\n",
       "      <td>latte</td>\n",
       "      <td>{\"S\":45, \"M\":60, \"L\":70}</td>\n",
       "      <td>{'S':45, 'M':60, 'L':70}</td>\n",
       "      <td>40,20,80</td>\n",
       "      <td>[40,20,80]</td>\n",
       "      <td>hot,cold</td>\n",
       "      <td>['hot', 'cold']</td>\n",
       "      <td>{'S': 45, 'M': 60, 'L': 70}</td>\n",
       "    </tr>\n",
       "    <tr>\n",
       "      <th>2</th>\n",
       "      <td>espresso</td>\n",
       "      <td>{\"S\":39, \"M\":49, \"L\":59}</td>\n",
       "      <td>{'S':39, 'M':49, 'L':59}</td>\n",
       "      <td>120,5,50</td>\n",
       "      <td>[120,5,50]</td>\n",
       "      <td>hot</td>\n",
       "      <td>['hot']</td>\n",
       "      <td>{'S': 39, 'M': 49, 'L': 59}</td>\n",
       "    </tr>\n",
       "  </tbody>\n",
       "</table>\n",
       "</div>"
      ],
      "text/plain": [
       "       menu                     price                    price2     orders  \\\n",
       "0     mocha  {\"S\":40, \"M\":50, \"L\":60}  {'S':40, 'M':50, 'L':60}  70,10,100   \n",
       "1     latte  {\"S\":45, \"M\":60, \"L\":70}  {'S':45, 'M':60, 'L':70}   40,20,80   \n",
       "2  espresso  {\"S\":39, \"M\":49, \"L\":59}  {'S':39, 'M':49, 'L':59}   120,5,50   \n",
       "\n",
       "       orders2            serve                     serve2  \\\n",
       "0  [70,10,100]  hot,cold,frappe  ['hot', 'cold', 'frappe']   \n",
       "1   [40,20,80]         hot,cold            ['hot', 'cold']   \n",
       "2   [120,5,50]              hot                    ['hot']   \n",
       "\n",
       "                       price_j  \n",
       "0  {'S': 40, 'M': 50, 'L': 60}  \n",
       "1  {'S': 45, 'M': 60, 'L': 70}  \n",
       "2  {'S': 39, 'M': 49, 'L': 59}  "
      ]
     },
     "execution_count": 8,
     "metadata": {},
     "output_type": "execute_result"
    }
   ],
   "source": [
    "df['price_j']=df['price'].map(json.loads)\n",
    "df"
   ]
  },
  {
   "cell_type": "code",
   "execution_count": 9,
   "id": "acting-share",
   "metadata": {},
   "outputs": [
    {
     "data": {
      "text/html": [
       "<div>\n",
       "<style scoped>\n",
       "    .dataframe tbody tr th:only-of-type {\n",
       "        vertical-align: middle;\n",
       "    }\n",
       "\n",
       "    .dataframe tbody tr th {\n",
       "        vertical-align: top;\n",
       "    }\n",
       "\n",
       "    .dataframe thead th {\n",
       "        text-align: right;\n",
       "    }\n",
       "</style>\n",
       "<table border=\"1\" class=\"dataframe\">\n",
       "  <thead>\n",
       "    <tr style=\"text-align: right;\">\n",
       "      <th></th>\n",
       "      <th>menu</th>\n",
       "      <th>price</th>\n",
       "      <th>price2</th>\n",
       "      <th>orders</th>\n",
       "      <th>orders2</th>\n",
       "      <th>serve</th>\n",
       "      <th>serve2</th>\n",
       "      <th>price_j</th>\n",
       "    </tr>\n",
       "  </thead>\n",
       "  <tbody>\n",
       "    <tr>\n",
       "      <th>0</th>\n",
       "      <td>mocha</td>\n",
       "      <td>{\"S\":40, \"M\":50, \"L\":60}</td>\n",
       "      <td>{'S':40, 'M':50, 'L':60}</td>\n",
       "      <td>70,10,100</td>\n",
       "      <td>[70,10,100]</td>\n",
       "      <td>hot,cold,frappe</td>\n",
       "      <td>['hot', 'cold', 'frappe']</td>\n",
       "      <td>{'S': 40, 'M': 50, 'L': 60}</td>\n",
       "    </tr>\n",
       "    <tr>\n",
       "      <th>1</th>\n",
       "      <td>latte</td>\n",
       "      <td>{\"S\":45, \"M\":60, \"L\":70}</td>\n",
       "      <td>{'S':45, 'M':60, 'L':70}</td>\n",
       "      <td>40,20,80</td>\n",
       "      <td>[40,20,80]</td>\n",
       "      <td>hot,cold</td>\n",
       "      <td>['hot', 'cold']</td>\n",
       "      <td>{'S': 45, 'M': 60, 'L': 70}</td>\n",
       "    </tr>\n",
       "    <tr>\n",
       "      <th>2</th>\n",
       "      <td>espresso</td>\n",
       "      <td>{\"S\":39, \"M\":49, \"L\":59}</td>\n",
       "      <td>{'S':39, 'M':49, 'L':59}</td>\n",
       "      <td>120,5,50</td>\n",
       "      <td>[120,5,50]</td>\n",
       "      <td>hot</td>\n",
       "      <td>['hot']</td>\n",
       "      <td>{'S': 39, 'M': 49, 'L': 59}</td>\n",
       "    </tr>\n",
       "  </tbody>\n",
       "</table>\n",
       "</div>"
      ],
      "text/plain": [
       "       menu                     price                    price2     orders  \\\n",
       "0     mocha  {\"S\":40, \"M\":50, \"L\":60}  {'S':40, 'M':50, 'L':60}  70,10,100   \n",
       "1     latte  {\"S\":45, \"M\":60, \"L\":70}  {'S':45, 'M':60, 'L':70}   40,20,80   \n",
       "2  espresso  {\"S\":39, \"M\":49, \"L\":59}  {'S':39, 'M':49, 'L':59}   120,5,50   \n",
       "\n",
       "       orders2            serve                     serve2  \\\n",
       "0  [70,10,100]  hot,cold,frappe  ['hot', 'cold', 'frappe']   \n",
       "1   [40,20,80]         hot,cold            ['hot', 'cold']   \n",
       "2   [120,5,50]              hot                    ['hot']   \n",
       "\n",
       "                       price_j  \n",
       "0  {'S': 40, 'M': 50, 'L': 60}  \n",
       "1  {'S': 45, 'M': 60, 'L': 70}  \n",
       "2  {'S': 39, 'M': 49, 'L': 59}  "
      ]
     },
     "execution_count": 9,
     "metadata": {},
     "output_type": "execute_result"
    }
   ],
   "source": [
    "df['price_j']=df['price'].apply(lambda s: json.loads(s))\n",
    "df"
   ]
  },
  {
   "cell_type": "code",
   "execution_count": 10,
   "id": "shaped-curtis",
   "metadata": {},
   "outputs": [],
   "source": [
    "# json.loads(\"{'S':40, 'M':50, 'L':60}\")"
   ]
  },
  {
   "cell_type": "markdown",
   "id": "latest-packet",
   "metadata": {},
   "source": [
    "## ast.literal_eval"
   ]
  },
  {
   "cell_type": "code",
   "execution_count": 11,
   "id": "mental-contrary",
   "metadata": {},
   "outputs": [
    {
     "data": {
      "text/plain": [
       "{'S': 40, 'M': 50, 'L': 60}"
      ]
     },
     "execution_count": 11,
     "metadata": {},
     "output_type": "execute_result"
    }
   ],
   "source": [
    "ast.literal_eval('{\"S\":40, \"M\":50, \"L\":60}')"
   ]
  },
  {
   "cell_type": "code",
   "execution_count": 12,
   "id": "everyday-harvey",
   "metadata": {},
   "outputs": [
    {
     "name": "stdout",
     "output_type": "stream",
     "text": [
      "<class 'dict'>\n",
      "{'S': 40, 'M': 50, 'L': 60}\n"
     ]
    }
   ],
   "source": [
    "k=ast.literal_eval(\"{'S':40, 'M':50, 'L':60}\")\n",
    "print(type(k))\n",
    "print(k)"
   ]
  },
  {
   "cell_type": "code",
   "execution_count": 13,
   "id": "hearing-repeat",
   "metadata": {},
   "outputs": [
    {
     "data": {
      "text/html": [
       "<div>\n",
       "<style scoped>\n",
       "    .dataframe tbody tr th:only-of-type {\n",
       "        vertical-align: middle;\n",
       "    }\n",
       "\n",
       "    .dataframe tbody tr th {\n",
       "        vertical-align: top;\n",
       "    }\n",
       "\n",
       "    .dataframe thead th {\n",
       "        text-align: right;\n",
       "    }\n",
       "</style>\n",
       "<table border=\"1\" class=\"dataframe\">\n",
       "  <thead>\n",
       "    <tr style=\"text-align: right;\">\n",
       "      <th></th>\n",
       "      <th>menu</th>\n",
       "      <th>price</th>\n",
       "      <th>price2</th>\n",
       "      <th>orders</th>\n",
       "      <th>orders2</th>\n",
       "      <th>serve</th>\n",
       "      <th>serve2</th>\n",
       "      <th>price_j</th>\n",
       "    </tr>\n",
       "  </thead>\n",
       "  <tbody>\n",
       "    <tr>\n",
       "      <th>0</th>\n",
       "      <td>mocha</td>\n",
       "      <td>{\"S\":40, \"M\":50, \"L\":60}</td>\n",
       "      <td>{'S':40, 'M':50, 'L':60}</td>\n",
       "      <td>70,10,100</td>\n",
       "      <td>[70,10,100]</td>\n",
       "      <td>hot,cold,frappe</td>\n",
       "      <td>['hot', 'cold', 'frappe']</td>\n",
       "      <td>{'S': 40, 'M': 50, 'L': 60}</td>\n",
       "    </tr>\n",
       "    <tr>\n",
       "      <th>1</th>\n",
       "      <td>latte</td>\n",
       "      <td>{\"S\":45, \"M\":60, \"L\":70}</td>\n",
       "      <td>{'S':45, 'M':60, 'L':70}</td>\n",
       "      <td>40,20,80</td>\n",
       "      <td>[40,20,80]</td>\n",
       "      <td>hot,cold</td>\n",
       "      <td>['hot', 'cold']</td>\n",
       "      <td>{'S': 45, 'M': 60, 'L': 70}</td>\n",
       "    </tr>\n",
       "    <tr>\n",
       "      <th>2</th>\n",
       "      <td>espresso</td>\n",
       "      <td>{\"S\":39, \"M\":49, \"L\":59}</td>\n",
       "      <td>{'S':39, 'M':49, 'L':59}</td>\n",
       "      <td>120,5,50</td>\n",
       "      <td>[120,5,50]</td>\n",
       "      <td>hot</td>\n",
       "      <td>['hot']</td>\n",
       "      <td>{'S': 39, 'M': 49, 'L': 59}</td>\n",
       "    </tr>\n",
       "  </tbody>\n",
       "</table>\n",
       "</div>"
      ],
      "text/plain": [
       "       menu                     price                    price2     orders  \\\n",
       "0     mocha  {\"S\":40, \"M\":50, \"L\":60}  {'S':40, 'M':50, 'L':60}  70,10,100   \n",
       "1     latte  {\"S\":45, \"M\":60, \"L\":70}  {'S':45, 'M':60, 'L':70}   40,20,80   \n",
       "2  espresso  {\"S\":39, \"M\":49, \"L\":59}  {'S':39, 'M':49, 'L':59}   120,5,50   \n",
       "\n",
       "       orders2            serve                     serve2  \\\n",
       "0  [70,10,100]  hot,cold,frappe  ['hot', 'cold', 'frappe']   \n",
       "1   [40,20,80]         hot,cold            ['hot', 'cold']   \n",
       "2   [120,5,50]              hot                    ['hot']   \n",
       "\n",
       "                       price_j  \n",
       "0  {'S': 40, 'M': 50, 'L': 60}  \n",
       "1  {'S': 45, 'M': 60, 'L': 70}  \n",
       "2  {'S': 39, 'M': 49, 'L': 59}  "
      ]
     },
     "execution_count": 13,
     "metadata": {},
     "output_type": "execute_result"
    }
   ],
   "source": [
    "df['price_j']=df['price2'].map(ast.literal_eval)\n",
    "df"
   ]
  },
  {
   "cell_type": "code",
   "execution_count": 14,
   "id": "wicked-interstate",
   "metadata": {},
   "outputs": [
    {
     "data": {
      "text/html": [
       "<div>\n",
       "<style scoped>\n",
       "    .dataframe tbody tr th:only-of-type {\n",
       "        vertical-align: middle;\n",
       "    }\n",
       "\n",
       "    .dataframe tbody tr th {\n",
       "        vertical-align: top;\n",
       "    }\n",
       "\n",
       "    .dataframe thead th {\n",
       "        text-align: right;\n",
       "    }\n",
       "</style>\n",
       "<table border=\"1\" class=\"dataframe\">\n",
       "  <thead>\n",
       "    <tr style=\"text-align: right;\">\n",
       "      <th></th>\n",
       "      <th>menu</th>\n",
       "      <th>price</th>\n",
       "      <th>price2</th>\n",
       "      <th>orders</th>\n",
       "      <th>orders2</th>\n",
       "      <th>serve</th>\n",
       "      <th>serve2</th>\n",
       "      <th>price_j</th>\n",
       "      <th>price_k</th>\n",
       "    </tr>\n",
       "  </thead>\n",
       "  <tbody>\n",
       "    <tr>\n",
       "      <th>0</th>\n",
       "      <td>mocha</td>\n",
       "      <td>{\"S\":40, \"M\":50, \"L\":60}</td>\n",
       "      <td>{'S':40, 'M':50, 'L':60}</td>\n",
       "      <td>70,10,100</td>\n",
       "      <td>[70,10,100]</td>\n",
       "      <td>hot,cold,frappe</td>\n",
       "      <td>['hot', 'cold', 'frappe']</td>\n",
       "      <td>{'S': 40, 'M': 50, 'L': 60}</td>\n",
       "      <td>{'S': 40, 'M': 50, 'L': 60}</td>\n",
       "    </tr>\n",
       "    <tr>\n",
       "      <th>1</th>\n",
       "      <td>latte</td>\n",
       "      <td>{\"S\":45, \"M\":60, \"L\":70}</td>\n",
       "      <td>{'S':45, 'M':60, 'L':70}</td>\n",
       "      <td>40,20,80</td>\n",
       "      <td>[40,20,80]</td>\n",
       "      <td>hot,cold</td>\n",
       "      <td>['hot', 'cold']</td>\n",
       "      <td>{'S': 45, 'M': 60, 'L': 70}</td>\n",
       "      <td>{'S': 45, 'M': 60, 'L': 70}</td>\n",
       "    </tr>\n",
       "    <tr>\n",
       "      <th>2</th>\n",
       "      <td>espresso</td>\n",
       "      <td>{\"S\":39, \"M\":49, \"L\":59}</td>\n",
       "      <td>{'S':39, 'M':49, 'L':59}</td>\n",
       "      <td>120,5,50</td>\n",
       "      <td>[120,5,50]</td>\n",
       "      <td>hot</td>\n",
       "      <td>['hot']</td>\n",
       "      <td>{'S': 39, 'M': 49, 'L': 59}</td>\n",
       "      <td>{'S': 39, 'M': 49, 'L': 59}</td>\n",
       "    </tr>\n",
       "  </tbody>\n",
       "</table>\n",
       "</div>"
      ],
      "text/plain": [
       "       menu                     price                    price2     orders  \\\n",
       "0     mocha  {\"S\":40, \"M\":50, \"L\":60}  {'S':40, 'M':50, 'L':60}  70,10,100   \n",
       "1     latte  {\"S\":45, \"M\":60, \"L\":70}  {'S':45, 'M':60, 'L':70}   40,20,80   \n",
       "2  espresso  {\"S\":39, \"M\":49, \"L\":59}  {'S':39, 'M':49, 'L':59}   120,5,50   \n",
       "\n",
       "       orders2            serve                     serve2  \\\n",
       "0  [70,10,100]  hot,cold,frappe  ['hot', 'cold', 'frappe']   \n",
       "1   [40,20,80]         hot,cold            ['hot', 'cold']   \n",
       "2   [120,5,50]              hot                    ['hot']   \n",
       "\n",
       "                       price_j                      price_k  \n",
       "0  {'S': 40, 'M': 50, 'L': 60}  {'S': 40, 'M': 50, 'L': 60}  \n",
       "1  {'S': 45, 'M': 60, 'L': 70}  {'S': 45, 'M': 60, 'L': 70}  \n",
       "2  {'S': 39, 'M': 49, 'L': 59}  {'S': 39, 'M': 49, 'L': 59}  "
      ]
     },
     "execution_count": 14,
     "metadata": {},
     "output_type": "execute_result"
    }
   ],
   "source": [
    "df['price_k']=df['price'].apply(lambda s: ast.literal_eval(s))\n",
    "df"
   ]
  },
  {
   "cell_type": "markdown",
   "id": "threaded-settle",
   "metadata": {},
   "source": [
    "### access dict"
   ]
  },
  {
   "cell_type": "code",
   "execution_count": 15,
   "id": "directed-fitting",
   "metadata": {},
   "outputs": [
    {
     "name": "stdout",
     "output_type": "stream",
     "text": [
      "<class 'dict'>\n"
     ]
    }
   ],
   "source": [
    "print(type(df['price_j'][0]))"
   ]
  },
  {
   "cell_type": "code",
   "execution_count": 16,
   "id": "extraordinary-giant",
   "metadata": {},
   "outputs": [
    {
     "data": {
      "text/plain": [
       "{'S': 40, 'M': 50, 'L': 60}"
      ]
     },
     "execution_count": 16,
     "metadata": {},
     "output_type": "execute_result"
    }
   ],
   "source": [
    "df['price_j'][0]"
   ]
  },
  {
   "cell_type": "code",
   "execution_count": 17,
   "id": "veterinary-phenomenon",
   "metadata": {},
   "outputs": [
    {
     "data": {
      "text/plain": [
       "50"
      ]
     },
     "execution_count": 17,
     "metadata": {},
     "output_type": "execute_result"
    }
   ],
   "source": [
    "df['price_j'][0]['M']"
   ]
  },
  {
   "cell_type": "code",
   "execution_count": 18,
   "id": "governing-marble",
   "metadata": {},
   "outputs": [
    {
     "data": {
      "text/plain": [
       "50"
      ]
     },
     "execution_count": 18,
     "metadata": {},
     "output_type": "execute_result"
    }
   ],
   "source": [
    "df.loc[0, 'price_j']['M']"
   ]
  },
  {
   "cell_type": "code",
   "execution_count": 19,
   "id": "egyptian-reverse",
   "metadata": {},
   "outputs": [
    {
     "data": {
      "text/plain": [
       "0    50\n",
       "1    60\n",
       "2    49\n",
       "Name: price_j, dtype: int64"
      ]
     },
     "execution_count": 19,
     "metadata": {},
     "output_type": "execute_result"
    }
   ],
   "source": [
    "df['price_j'].apply(lambda v: v['M'])"
   ]
  },
  {
   "cell_type": "markdown",
   "id": "confused-guitar",
   "metadata": {},
   "source": [
    "## list"
   ]
  },
  {
   "cell_type": "code",
   "execution_count": 20,
   "id": "advisory-berry",
   "metadata": {},
   "outputs": [
    {
     "data": {
      "text/plain": [
       "0    [70, 10, 100]\n",
       "1     [40, 20, 80]\n",
       "2     [120, 5, 50]\n",
       "Name: orders, dtype: object"
      ]
     },
     "execution_count": 20,
     "metadata": {},
     "output_type": "execute_result"
    }
   ],
   "source": [
    "df['orders'].str.split(',')"
   ]
  },
  {
   "cell_type": "code",
   "execution_count": 21,
   "id": "muslim-object",
   "metadata": {},
   "outputs": [
    {
     "data": {
      "text/plain": [
       "str"
      ]
     },
     "execution_count": 21,
     "metadata": {},
     "output_type": "execute_result"
    }
   ],
   "source": [
    "type(df['orders'][0])"
   ]
  },
  {
   "cell_type": "code",
   "execution_count": 22,
   "id": "difficult-dublin",
   "metadata": {},
   "outputs": [
    {
     "data": {
      "text/html": [
       "<div>\n",
       "<style scoped>\n",
       "    .dataframe tbody tr th:only-of-type {\n",
       "        vertical-align: middle;\n",
       "    }\n",
       "\n",
       "    .dataframe tbody tr th {\n",
       "        vertical-align: top;\n",
       "    }\n",
       "\n",
       "    .dataframe thead th {\n",
       "        text-align: right;\n",
       "    }\n",
       "</style>\n",
       "<table border=\"1\" class=\"dataframe\">\n",
       "  <thead>\n",
       "    <tr style=\"text-align: right;\">\n",
       "      <th></th>\n",
       "      <th>menu</th>\n",
       "      <th>price</th>\n",
       "      <th>price2</th>\n",
       "      <th>orders</th>\n",
       "      <th>orders2</th>\n",
       "      <th>serve</th>\n",
       "      <th>serve2</th>\n",
       "      <th>price_j</th>\n",
       "      <th>price_k</th>\n",
       "      <th>x</th>\n",
       "    </tr>\n",
       "  </thead>\n",
       "  <tbody>\n",
       "    <tr>\n",
       "      <th>0</th>\n",
       "      <td>mocha</td>\n",
       "      <td>{\"S\":40, \"M\":50, \"L\":60}</td>\n",
       "      <td>{'S':40, 'M':50, 'L':60}</td>\n",
       "      <td>70,10,100</td>\n",
       "      <td>[70,10,100]</td>\n",
       "      <td>hot,cold,frappe</td>\n",
       "      <td>['hot', 'cold', 'frappe']</td>\n",
       "      <td>{'S': 40, 'M': 50, 'L': 60}</td>\n",
       "      <td>{'S': 40, 'M': 50, 'L': 60}</td>\n",
       "      <td>[70, 10, 100]</td>\n",
       "    </tr>\n",
       "    <tr>\n",
       "      <th>1</th>\n",
       "      <td>latte</td>\n",
       "      <td>{\"S\":45, \"M\":60, \"L\":70}</td>\n",
       "      <td>{'S':45, 'M':60, 'L':70}</td>\n",
       "      <td>40,20,80</td>\n",
       "      <td>[40,20,80]</td>\n",
       "      <td>hot,cold</td>\n",
       "      <td>['hot', 'cold']</td>\n",
       "      <td>{'S': 45, 'M': 60, 'L': 70}</td>\n",
       "      <td>{'S': 45, 'M': 60, 'L': 70}</td>\n",
       "      <td>[40, 20, 80]</td>\n",
       "    </tr>\n",
       "    <tr>\n",
       "      <th>2</th>\n",
       "      <td>espresso</td>\n",
       "      <td>{\"S\":39, \"M\":49, \"L\":59}</td>\n",
       "      <td>{'S':39, 'M':49, 'L':59}</td>\n",
       "      <td>120,5,50</td>\n",
       "      <td>[120,5,50]</td>\n",
       "      <td>hot</td>\n",
       "      <td>['hot']</td>\n",
       "      <td>{'S': 39, 'M': 49, 'L': 59}</td>\n",
       "      <td>{'S': 39, 'M': 49, 'L': 59}</td>\n",
       "      <td>[120, 5, 50]</td>\n",
       "    </tr>\n",
       "  </tbody>\n",
       "</table>\n",
       "</div>"
      ],
      "text/plain": [
       "       menu                     price                    price2     orders  \\\n",
       "0     mocha  {\"S\":40, \"M\":50, \"L\":60}  {'S':40, 'M':50, 'L':60}  70,10,100   \n",
       "1     latte  {\"S\":45, \"M\":60, \"L\":70}  {'S':45, 'M':60, 'L':70}   40,20,80   \n",
       "2  espresso  {\"S\":39, \"M\":49, \"L\":59}  {'S':39, 'M':49, 'L':59}   120,5,50   \n",
       "\n",
       "       orders2            serve                     serve2  \\\n",
       "0  [70,10,100]  hot,cold,frappe  ['hot', 'cold', 'frappe']   \n",
       "1   [40,20,80]         hot,cold            ['hot', 'cold']   \n",
       "2   [120,5,50]              hot                    ['hot']   \n",
       "\n",
       "                       price_j                      price_k              x  \n",
       "0  {'S': 40, 'M': 50, 'L': 60}  {'S': 40, 'M': 50, 'L': 60}  [70, 10, 100]  \n",
       "1  {'S': 45, 'M': 60, 'L': 70}  {'S': 45, 'M': 60, 'L': 70}   [40, 20, 80]  \n",
       "2  {'S': 39, 'M': 49, 'L': 59}  {'S': 39, 'M': 49, 'L': 59}   [120, 5, 50]  "
      ]
     },
     "execution_count": 22,
     "metadata": {},
     "output_type": "execute_result"
    }
   ],
   "source": [
    "df['x']=pd.eval(df['orders'].str.split(','))\n",
    "df"
   ]
  },
  {
   "cell_type": "code",
   "execution_count": 23,
   "id": "fitting-traveler",
   "metadata": {},
   "outputs": [
    {
     "data": {
      "text/plain": [
       "180"
      ]
     },
     "execution_count": 23,
     "metadata": {},
     "output_type": "execute_result"
    }
   ],
   "source": [
    "sum(df['x'][0])"
   ]
  },
  {
   "cell_type": "code",
   "execution_count": 24,
   "id": "silent-knock",
   "metadata": {},
   "outputs": [
    {
     "data": {
      "text/plain": [
       "0    [70, 10, 100]\n",
       "1     [40, 20, 80]\n",
       "2     [120, 5, 50]\n",
       "Name: c1, dtype: object"
      ]
     },
     "execution_count": 24,
     "metadata": {},
     "output_type": "execute_result"
    }
   ],
   "source": [
    "df['c1']=df['orders'].str.split(',').apply(lambda v: list(map(int, v)))\n",
    "df['c1']"
   ]
  },
  {
   "cell_type": "code",
   "execution_count": 25,
   "id": "daily-clock",
   "metadata": {},
   "outputs": [
    {
     "data": {
      "text/plain": [
       "[70, 10, 100]"
      ]
     },
     "execution_count": 25,
     "metadata": {},
     "output_type": "execute_result"
    }
   ],
   "source": [
    "df['c1'][0]"
   ]
  },
  {
   "cell_type": "code",
   "execution_count": 26,
   "id": "broad-sport",
   "metadata": {},
   "outputs": [
    {
     "data": {
      "text/html": [
       "<div>\n",
       "<style scoped>\n",
       "    .dataframe tbody tr th:only-of-type {\n",
       "        vertical-align: middle;\n",
       "    }\n",
       "\n",
       "    .dataframe tbody tr th {\n",
       "        vertical-align: top;\n",
       "    }\n",
       "\n",
       "    .dataframe thead th {\n",
       "        text-align: right;\n",
       "    }\n",
       "</style>\n",
       "<table border=\"1\" class=\"dataframe\">\n",
       "  <thead>\n",
       "    <tr style=\"text-align: right;\">\n",
       "      <th></th>\n",
       "      <th>menu</th>\n",
       "      <th>price</th>\n",
       "      <th>price2</th>\n",
       "      <th>orders</th>\n",
       "      <th>orders2</th>\n",
       "      <th>serve</th>\n",
       "      <th>serve2</th>\n",
       "      <th>price_j</th>\n",
       "      <th>price_k</th>\n",
       "      <th>x</th>\n",
       "      <th>c1</th>\n",
       "      <th>c2</th>\n",
       "    </tr>\n",
       "  </thead>\n",
       "  <tbody>\n",
       "    <tr>\n",
       "      <th>0</th>\n",
       "      <td>mocha</td>\n",
       "      <td>{\"S\":40, \"M\":50, \"L\":60}</td>\n",
       "      <td>{'S':40, 'M':50, 'L':60}</td>\n",
       "      <td>70,10,100</td>\n",
       "      <td>[70,10,100]</td>\n",
       "      <td>hot,cold,frappe</td>\n",
       "      <td>['hot', 'cold', 'frappe']</td>\n",
       "      <td>{'S': 40, 'M': 50, 'L': 60}</td>\n",
       "      <td>{'S': 40, 'M': 50, 'L': 60}</td>\n",
       "      <td>[70, 10, 100]</td>\n",
       "      <td>[70, 10, 100]</td>\n",
       "      <td>[70, 10, 100]</td>\n",
       "    </tr>\n",
       "    <tr>\n",
       "      <th>1</th>\n",
       "      <td>latte</td>\n",
       "      <td>{\"S\":45, \"M\":60, \"L\":70}</td>\n",
       "      <td>{'S':45, 'M':60, 'L':70}</td>\n",
       "      <td>40,20,80</td>\n",
       "      <td>[40,20,80]</td>\n",
       "      <td>hot,cold</td>\n",
       "      <td>['hot', 'cold']</td>\n",
       "      <td>{'S': 45, 'M': 60, 'L': 70}</td>\n",
       "      <td>{'S': 45, 'M': 60, 'L': 70}</td>\n",
       "      <td>[40, 20, 80]</td>\n",
       "      <td>[40, 20, 80]</td>\n",
       "      <td>[40, 20, 80]</td>\n",
       "    </tr>\n",
       "    <tr>\n",
       "      <th>2</th>\n",
       "      <td>espresso</td>\n",
       "      <td>{\"S\":39, \"M\":49, \"L\":59}</td>\n",
       "      <td>{'S':39, 'M':49, 'L':59}</td>\n",
       "      <td>120,5,50</td>\n",
       "      <td>[120,5,50]</td>\n",
       "      <td>hot</td>\n",
       "      <td>['hot']</td>\n",
       "      <td>{'S': 39, 'M': 49, 'L': 59}</td>\n",
       "      <td>{'S': 39, 'M': 49, 'L': 59}</td>\n",
       "      <td>[120, 5, 50]</td>\n",
       "      <td>[120, 5, 50]</td>\n",
       "      <td>[120, 5, 50]</td>\n",
       "    </tr>\n",
       "  </tbody>\n",
       "</table>\n",
       "</div>"
      ],
      "text/plain": [
       "       menu                     price                    price2     orders  \\\n",
       "0     mocha  {\"S\":40, \"M\":50, \"L\":60}  {'S':40, 'M':50, 'L':60}  70,10,100   \n",
       "1     latte  {\"S\":45, \"M\":60, \"L\":70}  {'S':45, 'M':60, 'L':70}   40,20,80   \n",
       "2  espresso  {\"S\":39, \"M\":49, \"L\":59}  {'S':39, 'M':49, 'L':59}   120,5,50   \n",
       "\n",
       "       orders2            serve                     serve2  \\\n",
       "0  [70,10,100]  hot,cold,frappe  ['hot', 'cold', 'frappe']   \n",
       "1   [40,20,80]         hot,cold            ['hot', 'cold']   \n",
       "2   [120,5,50]              hot                    ['hot']   \n",
       "\n",
       "                       price_j                      price_k              x  \\\n",
       "0  {'S': 40, 'M': 50, 'L': 60}  {'S': 40, 'M': 50, 'L': 60}  [70, 10, 100]   \n",
       "1  {'S': 45, 'M': 60, 'L': 70}  {'S': 45, 'M': 60, 'L': 70}   [40, 20, 80]   \n",
       "2  {'S': 39, 'M': 49, 'L': 59}  {'S': 39, 'M': 49, 'L': 59}   [120, 5, 50]   \n",
       "\n",
       "              c1             c2  \n",
       "0  [70, 10, 100]  [70, 10, 100]  \n",
       "1   [40, 20, 80]   [40, 20, 80]  \n",
       "2   [120, 5, 50]   [120, 5, 50]  "
      ]
     },
     "execution_count": 26,
     "metadata": {},
     "output_type": "execute_result"
    }
   ],
   "source": [
    "df['c2']=pd.eval(df['orders2'])\n",
    "df"
   ]
  },
  {
   "cell_type": "code",
   "execution_count": 27,
   "id": "isolated-article",
   "metadata": {},
   "outputs": [
    {
     "data": {
      "text/plain": [
       "[70, 10, 100]"
      ]
     },
     "execution_count": 27,
     "metadata": {},
     "output_type": "execute_result"
    }
   ],
   "source": [
    "df['c2'][0]"
   ]
  },
  {
   "cell_type": "code",
   "execution_count": 28,
   "id": "naked-telescope",
   "metadata": {},
   "outputs": [
    {
     "data": {
      "text/plain": [
       "0    10\n",
       "1    20\n",
       "2     5\n",
       "Name: c2, dtype: int64"
      ]
     },
     "execution_count": 28,
     "metadata": {},
     "output_type": "execute_result"
    }
   ],
   "source": [
    "df['c2'].apply(lambda v: v[1])"
   ]
  },
  {
   "cell_type": "code",
   "execution_count": 29,
   "id": "amber-family",
   "metadata": {},
   "outputs": [
    {
     "data": {
      "text/html": [
       "<div>\n",
       "<style scoped>\n",
       "    .dataframe tbody tr th:only-of-type {\n",
       "        vertical-align: middle;\n",
       "    }\n",
       "\n",
       "    .dataframe tbody tr th {\n",
       "        vertical-align: top;\n",
       "    }\n",
       "\n",
       "    .dataframe thead th {\n",
       "        text-align: right;\n",
       "    }\n",
       "</style>\n",
       "<table border=\"1\" class=\"dataframe\">\n",
       "  <thead>\n",
       "    <tr style=\"text-align: right;\">\n",
       "      <th></th>\n",
       "      <th>menu</th>\n",
       "      <th>price</th>\n",
       "      <th>price2</th>\n",
       "      <th>orders</th>\n",
       "      <th>orders2</th>\n",
       "      <th>serve</th>\n",
       "      <th>serve2</th>\n",
       "      <th>price_j</th>\n",
       "      <th>price_k</th>\n",
       "      <th>x</th>\n",
       "      <th>c1</th>\n",
       "      <th>c2</th>\n",
       "      <th>d1</th>\n",
       "    </tr>\n",
       "  </thead>\n",
       "  <tbody>\n",
       "    <tr>\n",
       "      <th>0</th>\n",
       "      <td>mocha</td>\n",
       "      <td>{\"S\":40, \"M\":50, \"L\":60}</td>\n",
       "      <td>{'S':40, 'M':50, 'L':60}</td>\n",
       "      <td>70,10,100</td>\n",
       "      <td>[70,10,100]</td>\n",
       "      <td>hot,cold,frappe</td>\n",
       "      <td>['hot', 'cold', 'frappe']</td>\n",
       "      <td>{'S': 40, 'M': 50, 'L': 60}</td>\n",
       "      <td>{'S': 40, 'M': 50, 'L': 60}</td>\n",
       "      <td>[70, 10, 100]</td>\n",
       "      <td>[70, 10, 100]</td>\n",
       "      <td>[70, 10, 100]</td>\n",
       "      <td>[hot, cold, frappe]</td>\n",
       "    </tr>\n",
       "    <tr>\n",
       "      <th>1</th>\n",
       "      <td>latte</td>\n",
       "      <td>{\"S\":45, \"M\":60, \"L\":70}</td>\n",
       "      <td>{'S':45, 'M':60, 'L':70}</td>\n",
       "      <td>40,20,80</td>\n",
       "      <td>[40,20,80]</td>\n",
       "      <td>hot,cold</td>\n",
       "      <td>['hot', 'cold']</td>\n",
       "      <td>{'S': 45, 'M': 60, 'L': 70}</td>\n",
       "      <td>{'S': 45, 'M': 60, 'L': 70}</td>\n",
       "      <td>[40, 20, 80]</td>\n",
       "      <td>[40, 20, 80]</td>\n",
       "      <td>[40, 20, 80]</td>\n",
       "      <td>[hot, cold]</td>\n",
       "    </tr>\n",
       "    <tr>\n",
       "      <th>2</th>\n",
       "      <td>espresso</td>\n",
       "      <td>{\"S\":39, \"M\":49, \"L\":59}</td>\n",
       "      <td>{'S':39, 'M':49, 'L':59}</td>\n",
       "      <td>120,5,50</td>\n",
       "      <td>[120,5,50]</td>\n",
       "      <td>hot</td>\n",
       "      <td>['hot']</td>\n",
       "      <td>{'S': 39, 'M': 49, 'L': 59}</td>\n",
       "      <td>{'S': 39, 'M': 49, 'L': 59}</td>\n",
       "      <td>[120, 5, 50]</td>\n",
       "      <td>[120, 5, 50]</td>\n",
       "      <td>[120, 5, 50]</td>\n",
       "      <td>[hot]</td>\n",
       "    </tr>\n",
       "  </tbody>\n",
       "</table>\n",
       "</div>"
      ],
      "text/plain": [
       "       menu                     price                    price2     orders  \\\n",
       "0     mocha  {\"S\":40, \"M\":50, \"L\":60}  {'S':40, 'M':50, 'L':60}  70,10,100   \n",
       "1     latte  {\"S\":45, \"M\":60, \"L\":70}  {'S':45, 'M':60, 'L':70}   40,20,80   \n",
       "2  espresso  {\"S\":39, \"M\":49, \"L\":59}  {'S':39, 'M':49, 'L':59}   120,5,50   \n",
       "\n",
       "       orders2            serve                     serve2  \\\n",
       "0  [70,10,100]  hot,cold,frappe  ['hot', 'cold', 'frappe']   \n",
       "1   [40,20,80]         hot,cold            ['hot', 'cold']   \n",
       "2   [120,5,50]              hot                    ['hot']   \n",
       "\n",
       "                       price_j                      price_k              x  \\\n",
       "0  {'S': 40, 'M': 50, 'L': 60}  {'S': 40, 'M': 50, 'L': 60}  [70, 10, 100]   \n",
       "1  {'S': 45, 'M': 60, 'L': 70}  {'S': 45, 'M': 60, 'L': 70}   [40, 20, 80]   \n",
       "2  {'S': 39, 'M': 49, 'L': 59}  {'S': 39, 'M': 49, 'L': 59}   [120, 5, 50]   \n",
       "\n",
       "              c1             c2                   d1  \n",
       "0  [70, 10, 100]  [70, 10, 100]  [hot, cold, frappe]  \n",
       "1   [40, 20, 80]   [40, 20, 80]          [hot, cold]  \n",
       "2   [120, 5, 50]   [120, 5, 50]                [hot]  "
      ]
     },
     "execution_count": 29,
     "metadata": {},
     "output_type": "execute_result"
    }
   ],
   "source": [
    "df['d1']=df['serve'].str.split(',')\n",
    "df"
   ]
  },
  {
   "cell_type": "code",
   "execution_count": 30,
   "id": "unknown-clear",
   "metadata": {},
   "outputs": [
    {
     "data": {
      "text/html": [
       "<div>\n",
       "<style scoped>\n",
       "    .dataframe tbody tr th:only-of-type {\n",
       "        vertical-align: middle;\n",
       "    }\n",
       "\n",
       "    .dataframe tbody tr th {\n",
       "        vertical-align: top;\n",
       "    }\n",
       "\n",
       "    .dataframe thead th {\n",
       "        text-align: right;\n",
       "    }\n",
       "</style>\n",
       "<table border=\"1\" class=\"dataframe\">\n",
       "  <thead>\n",
       "    <tr style=\"text-align: right;\">\n",
       "      <th></th>\n",
       "      <th>menu</th>\n",
       "      <th>price</th>\n",
       "      <th>price2</th>\n",
       "      <th>orders</th>\n",
       "      <th>orders2</th>\n",
       "      <th>serve</th>\n",
       "      <th>serve2</th>\n",
       "      <th>price_j</th>\n",
       "      <th>price_k</th>\n",
       "      <th>x</th>\n",
       "      <th>c1</th>\n",
       "      <th>c2</th>\n",
       "      <th>d1</th>\n",
       "      <th>d2</th>\n",
       "    </tr>\n",
       "  </thead>\n",
       "  <tbody>\n",
       "    <tr>\n",
       "      <th>0</th>\n",
       "      <td>mocha</td>\n",
       "      <td>{\"S\":40, \"M\":50, \"L\":60}</td>\n",
       "      <td>{'S':40, 'M':50, 'L':60}</td>\n",
       "      <td>70,10,100</td>\n",
       "      <td>[70,10,100]</td>\n",
       "      <td>hot,cold,frappe</td>\n",
       "      <td>['hot', 'cold', 'frappe']</td>\n",
       "      <td>{'S': 40, 'M': 50, 'L': 60}</td>\n",
       "      <td>{'S': 40, 'M': 50, 'L': 60}</td>\n",
       "      <td>[70, 10, 100]</td>\n",
       "      <td>[70, 10, 100]</td>\n",
       "      <td>[70, 10, 100]</td>\n",
       "      <td>[hot, cold, frappe]</td>\n",
       "      <td>[hot, cold, frappe]</td>\n",
       "    </tr>\n",
       "    <tr>\n",
       "      <th>1</th>\n",
       "      <td>latte</td>\n",
       "      <td>{\"S\":45, \"M\":60, \"L\":70}</td>\n",
       "      <td>{'S':45, 'M':60, 'L':70}</td>\n",
       "      <td>40,20,80</td>\n",
       "      <td>[40,20,80]</td>\n",
       "      <td>hot,cold</td>\n",
       "      <td>['hot', 'cold']</td>\n",
       "      <td>{'S': 45, 'M': 60, 'L': 70}</td>\n",
       "      <td>{'S': 45, 'M': 60, 'L': 70}</td>\n",
       "      <td>[40, 20, 80]</td>\n",
       "      <td>[40, 20, 80]</td>\n",
       "      <td>[40, 20, 80]</td>\n",
       "      <td>[hot, cold]</td>\n",
       "      <td>[hot, cold]</td>\n",
       "    </tr>\n",
       "    <tr>\n",
       "      <th>2</th>\n",
       "      <td>espresso</td>\n",
       "      <td>{\"S\":39, \"M\":49, \"L\":59}</td>\n",
       "      <td>{'S':39, 'M':49, 'L':59}</td>\n",
       "      <td>120,5,50</td>\n",
       "      <td>[120,5,50]</td>\n",
       "      <td>hot</td>\n",
       "      <td>['hot']</td>\n",
       "      <td>{'S': 39, 'M': 49, 'L': 59}</td>\n",
       "      <td>{'S': 39, 'M': 49, 'L': 59}</td>\n",
       "      <td>[120, 5, 50]</td>\n",
       "      <td>[120, 5, 50]</td>\n",
       "      <td>[120, 5, 50]</td>\n",
       "      <td>[hot]</td>\n",
       "      <td>[hot]</td>\n",
       "    </tr>\n",
       "  </tbody>\n",
       "</table>\n",
       "</div>"
      ],
      "text/plain": [
       "       menu                     price                    price2     orders  \\\n",
       "0     mocha  {\"S\":40, \"M\":50, \"L\":60}  {'S':40, 'M':50, 'L':60}  70,10,100   \n",
       "1     latte  {\"S\":45, \"M\":60, \"L\":70}  {'S':45, 'M':60, 'L':70}   40,20,80   \n",
       "2  espresso  {\"S\":39, \"M\":49, \"L\":59}  {'S':39, 'M':49, 'L':59}   120,5,50   \n",
       "\n",
       "       orders2            serve                     serve2  \\\n",
       "0  [70,10,100]  hot,cold,frappe  ['hot', 'cold', 'frappe']   \n",
       "1   [40,20,80]         hot,cold            ['hot', 'cold']   \n",
       "2   [120,5,50]              hot                    ['hot']   \n",
       "\n",
       "                       price_j                      price_k              x  \\\n",
       "0  {'S': 40, 'M': 50, 'L': 60}  {'S': 40, 'M': 50, 'L': 60}  [70, 10, 100]   \n",
       "1  {'S': 45, 'M': 60, 'L': 70}  {'S': 45, 'M': 60, 'L': 70}   [40, 20, 80]   \n",
       "2  {'S': 39, 'M': 49, 'L': 59}  {'S': 39, 'M': 49, 'L': 59}   [120, 5, 50]   \n",
       "\n",
       "              c1             c2                   d1                   d2  \n",
       "0  [70, 10, 100]  [70, 10, 100]  [hot, cold, frappe]  [hot, cold, frappe]  \n",
       "1   [40, 20, 80]   [40, 20, 80]          [hot, cold]          [hot, cold]  \n",
       "2   [120, 5, 50]   [120, 5, 50]                [hot]                [hot]  "
      ]
     },
     "execution_count": 30,
     "metadata": {},
     "output_type": "execute_result"
    }
   ],
   "source": [
    "df['d2']=pd.eval(df['serve2'])\n",
    "df"
   ]
  },
  {
   "cell_type": "code",
   "execution_count": 31,
   "id": "adjustable-extraction",
   "metadata": {},
   "outputs": [
    {
     "data": {
      "text/html": [
       "<div>\n",
       "<style scoped>\n",
       "    .dataframe tbody tr th:only-of-type {\n",
       "        vertical-align: middle;\n",
       "    }\n",
       "\n",
       "    .dataframe tbody tr th {\n",
       "        vertical-align: top;\n",
       "    }\n",
       "\n",
       "    .dataframe thead th {\n",
       "        text-align: right;\n",
       "    }\n",
       "</style>\n",
       "<table border=\"1\" class=\"dataframe\">\n",
       "  <thead>\n",
       "    <tr style=\"text-align: right;\">\n",
       "      <th></th>\n",
       "      <th>menu</th>\n",
       "      <th>price</th>\n",
       "      <th>price2</th>\n",
       "      <th>orders</th>\n",
       "      <th>orders2</th>\n",
       "      <th>serve</th>\n",
       "      <th>serve2</th>\n",
       "      <th>price_j</th>\n",
       "      <th>price_k</th>\n",
       "      <th>x</th>\n",
       "      <th>c1</th>\n",
       "      <th>c2</th>\n",
       "      <th>d1</th>\n",
       "      <th>d2</th>\n",
       "    </tr>\n",
       "  </thead>\n",
       "  <tbody>\n",
       "    <tr>\n",
       "      <th>0</th>\n",
       "      <td>mocha</td>\n",
       "      <td>{\"S\":40, \"M\":50, \"L\":60}</td>\n",
       "      <td>{'S':40, 'M':50, 'L':60}</td>\n",
       "      <td>70,10,100</td>\n",
       "      <td>[70,10,100]</td>\n",
       "      <td>hot,cold,frappe</td>\n",
       "      <td>['hot', 'cold', 'frappe']</td>\n",
       "      <td>{'S': 40, 'M': 50, 'L': 60}</td>\n",
       "      <td>{'S': 40, 'M': 50, 'L': 60}</td>\n",
       "      <td>[70, 10, 100]</td>\n",
       "      <td>[70, 10, 100]</td>\n",
       "      <td>[70, 10, 100]</td>\n",
       "      <td>[hot, cold, frappe]</td>\n",
       "      <td>[hot, cold, frappe]</td>\n",
       "    </tr>\n",
       "    <tr>\n",
       "      <th>1</th>\n",
       "      <td>latte</td>\n",
       "      <td>{\"S\":45, \"M\":60, \"L\":70}</td>\n",
       "      <td>{'S':45, 'M':60, 'L':70}</td>\n",
       "      <td>40,20,80</td>\n",
       "      <td>[40,20,80]</td>\n",
       "      <td>hot,cold</td>\n",
       "      <td>['hot', 'cold']</td>\n",
       "      <td>{'S': 45, 'M': 60, 'L': 70}</td>\n",
       "      <td>{'S': 45, 'M': 60, 'L': 70}</td>\n",
       "      <td>[40, 20, 80]</td>\n",
       "      <td>[40, 20, 80]</td>\n",
       "      <td>[40, 20, 80]</td>\n",
       "      <td>[hot, cold]</td>\n",
       "      <td>[hot, cold]</td>\n",
       "    </tr>\n",
       "    <tr>\n",
       "      <th>2</th>\n",
       "      <td>espresso</td>\n",
       "      <td>{\"S\":39, \"M\":49, \"L\":59}</td>\n",
       "      <td>{'S':39, 'M':49, 'L':59}</td>\n",
       "      <td>120,5,50</td>\n",
       "      <td>[120,5,50]</td>\n",
       "      <td>hot</td>\n",
       "      <td>['hot']</td>\n",
       "      <td>{'S': 39, 'M': 49, 'L': 59}</td>\n",
       "      <td>{'S': 39, 'M': 49, 'L': 59}</td>\n",
       "      <td>[120, 5, 50]</td>\n",
       "      <td>[120, 5, 50]</td>\n",
       "      <td>[120, 5, 50]</td>\n",
       "      <td>[hot]</td>\n",
       "      <td>[hot]</td>\n",
       "    </tr>\n",
       "  </tbody>\n",
       "</table>\n",
       "</div>"
      ],
      "text/plain": [
       "       menu                     price                    price2     orders  \\\n",
       "0     mocha  {\"S\":40, \"M\":50, \"L\":60}  {'S':40, 'M':50, 'L':60}  70,10,100   \n",
       "1     latte  {\"S\":45, \"M\":60, \"L\":70}  {'S':45, 'M':60, 'L':70}   40,20,80   \n",
       "2  espresso  {\"S\":39, \"M\":49, \"L\":59}  {'S':39, 'M':49, 'L':59}   120,5,50   \n",
       "\n",
       "       orders2            serve                     serve2  \\\n",
       "0  [70,10,100]  hot,cold,frappe  ['hot', 'cold', 'frappe']   \n",
       "1   [40,20,80]         hot,cold            ['hot', 'cold']   \n",
       "2   [120,5,50]              hot                    ['hot']   \n",
       "\n",
       "                       price_j                      price_k              x  \\\n",
       "0  {'S': 40, 'M': 50, 'L': 60}  {'S': 40, 'M': 50, 'L': 60}  [70, 10, 100]   \n",
       "1  {'S': 45, 'M': 60, 'L': 70}  {'S': 45, 'M': 60, 'L': 70}   [40, 20, 80]   \n",
       "2  {'S': 39, 'M': 49, 'L': 59}  {'S': 39, 'M': 49, 'L': 59}   [120, 5, 50]   \n",
       "\n",
       "              c1             c2                   d1                   d2  \n",
       "0  [70, 10, 100]  [70, 10, 100]  [hot, cold, frappe]  [hot, cold, frappe]  \n",
       "1   [40, 20, 80]   [40, 20, 80]          [hot, cold]          [hot, cold]  \n",
       "2   [120, 5, 50]   [120, 5, 50]                [hot]                [hot]  "
      ]
     },
     "execution_count": 31,
     "metadata": {},
     "output_type": "execute_result"
    }
   ],
   "source": [
    "df['d2']=df['serve2'].map(ast.literal_eval)\n",
    "df"
   ]
  },
  {
   "cell_type": "code",
   "execution_count": 32,
   "id": "sacred-basics",
   "metadata": {},
   "outputs": [
    {
     "data": {
      "text/plain": [
       "['hot', 'cold', 'frappe']"
      ]
     },
     "execution_count": 32,
     "metadata": {},
     "output_type": "execute_result"
    }
   ],
   "source": [
    "df['d2'][0]"
   ]
  },
  {
   "cell_type": "code",
   "execution_count": 33,
   "id": "supreme-collective",
   "metadata": {},
   "outputs": [
    {
     "data": {
      "text/plain": [
       "'frappe'"
      ]
     },
     "execution_count": 33,
     "metadata": {},
     "output_type": "execute_result"
    }
   ],
   "source": [
    "df['d2'][0][2]"
   ]
  },
  {
   "cell_type": "code",
   "execution_count": 34,
   "id": "beneficial-lyric",
   "metadata": {},
   "outputs": [],
   "source": [
    "df.to_csv('out.tsv', sep='\\t', index=False)"
   ]
  },
  {
   "cell_type": "code",
   "execution_count": null,
   "id": "rolled-measure",
   "metadata": {},
   "outputs": [],
   "source": []
  }
 ],
 "metadata": {
  "kernelspec": {
   "display_name": "Python 3",
   "language": "python",
   "name": "python3"
  },
  "language_info": {
   "codemirror_mode": {
    "name": "ipython",
    "version": 3
   },
   "file_extension": ".py",
   "mimetype": "text/x-python",
   "name": "python",
   "nbconvert_exporter": "python",
   "pygments_lexer": "ipython3",
   "version": "3.7.9"
  },
  "widgets": {
   "application/vnd.jupyter.widget-state+json": {
    "state": {},
    "version_major": 2,
    "version_minor": 0
   }
  }
 },
 "nbformat": 4,
 "nbformat_minor": 5
}
